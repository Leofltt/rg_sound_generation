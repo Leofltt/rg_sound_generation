{
 "cells": [
  {
   "cell_type": "code",
   "execution_count": null,
   "metadata": {
    "collapsed": true
   },
   "outputs": [],
   "source": [
    "import os\n",
    "import pandas as pd\n",
    "import tensorflow as tf\n",
    "import librosa\n",
    "import librosa.display as ld\n",
    "import numpy as np\n",
    "import random\n",
    "import matplotlib.pyplot as plt\n",
    "\n",
    "plt.style.use(\"dark_background\")"
   ]
  },
  {
   "cell_type": "code",
   "execution_count": null,
   "outputs": [],
   "source": [
    "audio_data_dir = \"d:\\soundofai\\pitch_60_audio\"\n",
    "audio_files = [x for x in os.listdir(audio_data_dir) if x.lower().endswith(\"wav\")]\n",
    "print(f\"found {len(audio_files)} files\")"
   ],
   "metadata": {
    "collapsed": false,
    "pycharm": {
     "name": "#%%\n"
    }
   }
  },
  {
   "cell_type": "code",
   "execution_count": null,
   "outputs": [],
   "source": [
    "df = pd.read_csv(\"../data/old_final.csv\", index_col=0)\n",
    "df.head()"
   ],
   "metadata": {
    "collapsed": false,
    "pycharm": {
     "name": "#%%\n"
    }
   }
  },
  {
   "cell_type": "code",
   "execution_count": null,
   "outputs": [],
   "source": [
    "dataset = {}\n",
    "\n",
    "for i, row in df.iterrows():\n",
    "    qualities= row.iloc[2:-1]\n",
    "    classes = np.clip(qualities.values, 0, 1)\n",
    "    if np.sum(classes) == 0:\n",
    "        continue\n",
    "    else:\n",
    "        dataset[row.iloc[0]] = classes.tolist()"
   ],
   "metadata": {
    "collapsed": false,
    "pycharm": {
     "name": "#%%\n"
    }
   }
  },
  {
   "cell_type": "code",
   "execution_count": null,
   "outputs": [],
   "source": [
    "num_classes = len(classes)\n",
    "frame_size = 2048\n",
    "hop_len = 512\n",
    "num_mels = 128\n",
    "sample_rate = 16000\n",
    "\n",
    "def get_melspectrogram(signal):\n",
    "    melspec = librosa.feature.melspectrogram(\n",
    "        signal,\n",
    "        hop_length=hop_len,\n",
    "        n_fft=frame_size,\n",
    "        n_mels=num_mels\n",
    "    )\n",
    "    return librosa.power_to_db(melspec)\n",
    "\n",
    "def plot_melspectrogram(ms):\n",
    "    plt.figure(figsize=(12, 6))\n",
    "    ld.specshow(\n",
    "        ms,\n",
    "        sr=sample_rate,\n",
    "        hop_length=hop_len,\n",
    "        x_axis='time',\n",
    "        y_axis='mel',\n",
    "        cmap='viridis'\n",
    "    )\n",
    "    plt.colorbar()\n",
    "    plt.show()\n",
    "\n",
    "\n",
    "def get_ms_from_file(file_path):\n",
    "    audio, _ = librosa.load(file_path, sr=sample_rate)\n",
    "    return get_melspectrogram(audio[:32400])"
   ],
   "metadata": {
    "collapsed": false,
    "pycharm": {
     "name": "#%%\n"
    }
   }
  },
  {
   "cell_type": "code",
   "execution_count": null,
   "outputs": [],
   "source": [
    "audio, _ = librosa.load(os.path.join(audio_data_dir, audio_files[0]), sr=sample_rate)\n",
    "print(audio.shape)"
   ],
   "metadata": {
    "collapsed": false,
    "pycharm": {
     "name": "#%%\n"
    }
   }
  },
  {
   "cell_type": "code",
   "execution_count": null,
   "outputs": [],
   "source": [
    "mel_sp = get_melspectrogram(audio[:32400])\n",
    "\n",
    "print(mel_sp.shape)\n",
    "\n",
    "plot_melspectrogram(mel_sp)"
   ],
   "metadata": {
    "collapsed": false,
    "pycharm": {
     "name": "#%%\n"
    }
   }
  },
  {
   "cell_type": "code",
   "execution_count": null,
   "outputs": [],
   "source": [
    "from tensorflow.keras.layers import Conv2D, MaxPool2D, BatchNormalization\n",
    "from tensorflow.keras.layers import Input, Lambda, Flatten, Dropout, Dense\n",
    "\n",
    "\n",
    "def create_model():\n",
    "    def conv_block(input_, num_filters):\n",
    "        x = Conv2D(num_filters, 3, activation='relu')(input_)\n",
    "        x = MaxPool2D(2)(x)\n",
    "        return BatchNormalization()(x)\n",
    "\n",
    "    input_ = Input(shape=(128, 64))\n",
    "    x = Lambda(lambda x: tf.expand_dims(x, axis=-1))(input_)\n",
    "    for i in range(0, 4):\n",
    "        num_filters = 2**(4 + i)\n",
    "        x = conv_block(x, num_filters)\n",
    "    x = Flatten()(x)\n",
    "    x = Dropout(0.25)(x)\n",
    "    output_ = Dense(num_classes, activation='sigmoid')(x)\n",
    "\n",
    "    model = tf.keras.models.Model(input_, output_)\n",
    "    return model\n",
    "\n",
    "model = create_model()\n",
    "model.summary()"
   ],
   "metadata": {
    "collapsed": false,
    "pycharm": {
     "name": "#%%\n"
    }
   }
  },
  {
   "cell_type": "code",
   "execution_count": null,
   "outputs": [],
   "source": [
    "len(dataset)"
   ],
   "metadata": {
    "collapsed": false,
    "pycharm": {
     "name": "#%%\n"
    }
   }
  },
  {
   "cell_type": "code",
   "execution_count": null,
   "outputs": [],
   "source": [
    "def data_generator(batch_size=16):\n",
    "    while True:\n",
    "        x_batch = np.zeros((batch_size, 128, 64))\n",
    "        y_batch = np.zeros((batch_size, num_classes))\n",
    "\n",
    "        for i in range(0, batch_size):\n",
    "            example, label = random.choice(list(dataset.items()))\n",
    "            file_path = os.path.join(audio_data_dir, example)\n",
    "            x_batch[i] = get_ms_from_file(file_path)\n",
    "            y_batch[i] = np.array(label)\n",
    "\n",
    "        yield (x_batch, y_batch)"
   ],
   "metadata": {
    "collapsed": false,
    "pycharm": {
     "name": "#%%\n"
    }
   }
  },
  {
   "cell_type": "code",
   "execution_count": null,
   "outputs": [],
   "source": [
    "model.compile(\n",
    "    optimizer=\"adam\",\n",
    "    loss=\"binary_crossentropy\",\n",
    "    metrics=[\"accuracy\"]\n",
    ")\n",
    "\n",
    "_ = model.fit(\n",
    "    data_generator(),\n",
    "    steps_per_epoch=50,\n",
    "    epochs=50,\n",
    "    callbacks=[\n",
    "        tf.keras.callbacks.EarlyStopping(monitor=\"accuracy\", patience=5)\n",
    "    ]\n",
    ")"
   ],
   "metadata": {
    "collapsed": false,
    "pycharm": {
     "name": "#%%\n"
    }
   }
  },
  {
   "cell_type": "code",
   "execution_count": null,
   "outputs": [],
   "source": [],
   "metadata": {
    "collapsed": false,
    "pycharm": {
     "name": "#%%\n"
    }
   }
  }
 ],
 "metadata": {
  "kernelspec": {
   "display_name": "Python 3",
   "language": "python",
   "name": "python3"
  },
  "language_info": {
   "codemirror_mode": {
    "name": "ipython",
    "version": 2
   },
   "file_extension": ".py",
   "mimetype": "text/x-python",
   "name": "python",
   "nbconvert_exporter": "python",
   "pygments_lexer": "ipython2",
   "version": "2.7.6"
  }
 },
 "nbformat": 4,
 "nbformat_minor": 0
}