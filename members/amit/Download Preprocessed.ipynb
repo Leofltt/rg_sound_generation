{
 "cells": [
  {
   "cell_type": "markdown",
   "metadata": {},
   "source": [
    "## Download Preprocessed NSynth Guitar Subset\n",
    "\n",
    "Just include the following code cell in your notebook if you're running on Colab. Please note that the `tfrecord` files are all named `train.tfrecord*` - even in the test and validation set. The directory names are different, of course. Once you run the code cell, you will see:\n",
    "1. Training set in `preprocessed/data_train` in 100 shards\n",
    "2. Validation set in `preprocessed/data_valid` in 100 shards\n",
    "3. Test set in `preprocessed/data_test` in 10 shards"
   ]
  },
  {
   "cell_type": "code",
   "execution_count": null,
   "metadata": {},
   "outputs": [],
   "source": [
    "import os\n",
    "\n",
    "datasets = (('train', 100), ('test', 10), ('valid', 100))\n",
    "\n",
    "if not os.path.exists('preprocessed'):\n",
    "    os.mkdir('preprocessed')\n",
    "\n",
    "for set_name, count in datasets:\n",
    "    target_dir = os.path.join('preprocessed', f'data_{set_name}')\n",
    "    if not os.path.exists(target_dir):\n",
    "        os.mkdir(target_dir)\n",
    "    print('='*40)\n",
    "    print(f'Downloading set {set_name}..')\n",
    "    print('='*40)\n",
    "    for i in range(0, count):\n",
    "        object_name = f'train.tfrecord-000{i:02d}-of-00{count:03d}'\n",
    "        object_path = f'https://osr-tsoai.s3.amazonaws.com/data_{set_name}/{object_name}'\n",
    "        download_path = os.path.join(target_dir, object_name)\n",
    "        print(f'Downloading to {download_path}')\n",
    "        !curl -s $object_path --output $download_path"
   ]
  },
  {
   "cell_type": "code",
   "execution_count": null,
   "metadata": {},
   "outputs": [],
   "source": []
  }
 ],
 "metadata": {
  "kernelspec": {
   "display_name": "Python 3",
   "language": "python",
   "name": "python3"
  },
  "language_info": {
   "codemirror_mode": {
    "name": "ipython",
    "version": 3
   },
   "file_extension": ".py",
   "mimetype": "text/x-python",
   "name": "python",
   "nbconvert_exporter": "python",
   "pygments_lexer": "ipython3",
   "version": "3.7.9"
  }
 },
 "nbformat": 4,
 "nbformat_minor": 2
}
