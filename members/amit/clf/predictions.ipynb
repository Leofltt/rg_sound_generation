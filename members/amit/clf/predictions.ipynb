{
 "cells": [
  {
   "cell_type": "code",
   "execution_count": 2,
   "metadata": {
    "collapsed": true,
    "pycharm": {
     "name": "#%%\n"
    }
   },
   "outputs": [],
   "source": [
    "%matplotlib inline\n",
    "\n",
    "from create_model import create_model\n",
    "from matplotlib import pyplot as plt\n",
    "from data_generator import DataGenerator\n",
    "from config import get_config"
   ]
  },
  {
   "cell_type": "code",
   "execution_count": 3,
   "outputs": [
    {
     "name": "stderr",
     "output_type": "stream",
     "text": [
      "2021-05-05 10:47:13.597 | INFO     | data_loader:data_loader:28 - Loading csv and checking audio files\n",
      "2021-05-05 10:47:13.609 | INFO     | data_loader:data_loader:31 - Creating dataset\n",
      "2021-05-05 10:47:13.779 | INFO     | data_loader:data_loader:45 - Creating train and valid splits\n",
      "2021-05-05 10:47:13.928 | INFO     | data_generator:__init__:24 - DataGenerator instantiated\n"
     ]
    }
   ],
   "source": [
    "conf = get_config()\n",
    "batch_size = 4\n",
    "\n",
    "data_gen = DataGenerator(conf, batch_size)"
   ],
   "metadata": {
    "collapsed": false,
    "pycharm": {
     "name": "#%%\n"
    }
   }
  },
  {
   "cell_type": "code",
   "execution_count": 5,
   "outputs": [
    {
     "name": "stderr",
     "output_type": "stream",
     "text": [
      "2021-05-05 10:47:40.844 | INFO     | create_model:create_model:16 - Creating the model\n",
      "2021-05-05 10:47:42.506 | INFO     | create_model:create_model:30 - Compiling the model\n"
     ]
    },
    {
     "name": "stdout",
     "output_type": "stream",
     "text": [
      "Model: \"functional_1\"\n",
      "_________________________________________________________________\n",
      "Layer (type)                 Output Shape              Param #   \n",
      "=================================================================\n",
      "input_1 (InputLayer)         [(None, 256, 126)]        0         \n",
      "_________________________________________________________________\n",
      "lambda (Lambda)              (None, 256, 126, 1)       0         \n",
      "_________________________________________________________________\n",
      "conv2d (Conv2D)              (None, 254, 124, 32)      320       \n",
      "_________________________________________________________________\n",
      "batch_normalization (BatchNo (None, 254, 124, 32)      128       \n",
      "_________________________________________________________________\n",
      "activation (Activation)      (None, 254, 124, 32)      0         \n",
      "_________________________________________________________________\n",
      "max_pooling2d (MaxPooling2D) (None, 127, 62, 32)       0         \n",
      "_________________________________________________________________\n",
      "conv2d_1 (Conv2D)            (None, 125, 60, 64)       18496     \n",
      "_________________________________________________________________\n",
      "batch_normalization_1 (Batch (None, 125, 60, 64)       256       \n",
      "_________________________________________________________________\n",
      "activation_1 (Activation)    (None, 125, 60, 64)       0         \n",
      "_________________________________________________________________\n",
      "max_pooling2d_1 (MaxPooling2 (None, 62, 30, 64)        0         \n",
      "_________________________________________________________________\n",
      "conv2d_2 (Conv2D)            (None, 60, 28, 128)       73856     \n",
      "_________________________________________________________________\n",
      "batch_normalization_2 (Batch (None, 60, 28, 128)       512       \n",
      "_________________________________________________________________\n",
      "activation_2 (Activation)    (None, 60, 28, 128)       0         \n",
      "_________________________________________________________________\n",
      "max_pooling2d_2 (MaxPooling2 (None, 30, 14, 128)       0         \n",
      "_________________________________________________________________\n",
      "conv2d_3 (Conv2D)            (None, 28, 12, 256)       295168    \n",
      "_________________________________________________________________\n",
      "batch_normalization_3 (Batch (None, 28, 12, 256)       1024      \n",
      "_________________________________________________________________\n",
      "activation_3 (Activation)    (None, 28, 12, 256)       0         \n",
      "_________________________________________________________________\n",
      "max_pooling2d_3 (MaxPooling2 (None, 14, 6, 256)        0         \n",
      "_________________________________________________________________\n",
      "conv2d_4 (Conv2D)            (None, 12, 4, 512)        1180160   \n",
      "_________________________________________________________________\n",
      "batch_normalization_4 (Batch (None, 12, 4, 512)        2048      \n",
      "_________________________________________________________________\n",
      "activation_4 (Activation)    (None, 12, 4, 512)        0         \n",
      "_________________________________________________________________\n",
      "max_pooling2d_4 (MaxPooling2 (None, 6, 2, 512)         0         \n",
      "_________________________________________________________________\n",
      "flatten (Flatten)            (None, 6144)              0         \n",
      "_________________________________________________________________\n",
      "dropout (Dropout)            (None, 6144)              0         \n",
      "_________________________________________________________________\n",
      "dense (Dense)                (None, 256)               1573120   \n",
      "_________________________________________________________________\n",
      "dropout_1 (Dropout)          (None, 256)               0         \n",
      "_________________________________________________________________\n",
      "dense_1 (Dense)              (None, 9)                 2313      \n",
      "=================================================================\n",
      "Total params: 3,147,401\n",
      "Trainable params: 3,145,417\n",
      "Non-trainable params: 1,984\n",
      "_________________________________________________________________\n",
      "None\n"
     ]
    }
   ],
   "source": [
    "model = create_model(conf)\n",
    "model.load_weights(\"checkpoints/val_loss_0.1226.h5\")"
   ],
   "metadata": {
    "collapsed": false,
    "pycharm": {
     "name": "#%%\n"
    }
   }
  },
  {
   "cell_type": "code",
   "execution_count": 6,
   "outputs": [],
   "source": [
    "valid = iter(data_gen.generator(\"valid\"))"
   ],
   "metadata": {
    "collapsed": false,
    "pycharm": {
     "name": "#%%\n"
    }
   }
  },
  {
   "cell_type": "code",
   "execution_count": 7,
   "outputs": [],
   "source": [
    "x, y = next(valid)\n",
    "\n",
    "preds = model.predict(x)"
   ],
   "metadata": {
    "collapsed": false,
    "pycharm": {
     "name": "#%%\n"
    }
   }
  },
  {
   "cell_type": "code",
   "execution_count": 12,
   "outputs": [
    {
     "data": {
      "text/plain": "array([0.45, 0.42, 0.73, 0.85, 0.58, 0.56, 0.7 , 0.63, 0.68])"
     },
     "execution_count": 12,
     "metadata": {},
     "output_type": "execute_result"
    }
   ],
   "source": [
    "y[1]"
   ],
   "metadata": {
    "collapsed": false,
    "pycharm": {
     "name": "#%%\n"
    }
   }
  },
  {
   "cell_type": "code",
   "execution_count": 13,
   "outputs": [
    {
     "data": {
      "text/plain": "array([0.15904734, 0.15006082, 0.17809956, 0.1661948 , 0.14933698,\n       0.33251148, 0.159909  , 0.03464597, 0.30783305], dtype=float32)"
     },
     "execution_count": 13,
     "metadata": {},
     "output_type": "execute_result"
    }
   ],
   "source": [
    "preds[1]"
   ],
   "metadata": {
    "collapsed": false,
    "pycharm": {
     "name": "#%%\n"
    }
   }
  },
  {
   "cell_type": "code",
   "execution_count": null,
   "outputs": [],
   "source": [],
   "metadata": {
    "collapsed": false,
    "pycharm": {
     "name": "#%%\n"
    }
   }
  }
 ],
 "metadata": {
  "kernelspec": {
   "display_name": "Python 3",
   "language": "python",
   "name": "python3"
  },
  "language_info": {
   "codemirror_mode": {
    "name": "ipython",
    "version": 2
   },
   "file_extension": ".py",
   "mimetype": "text/x-python",
   "name": "python",
   "nbconvert_exporter": "python",
   "pygments_lexer": "ipython2",
   "version": "2.7.6"
  }
 },
 "nbformat": 4,
 "nbformat_minor": 0
}