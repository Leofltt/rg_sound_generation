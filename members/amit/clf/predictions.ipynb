{
 "cells": [
  {
   "cell_type": "code",
   "execution_count": 1,
   "metadata": {
    "collapsed": true,
    "pycharm": {
     "name": "#%%\n"
    }
   },
   "outputs": [],
   "source": [
    "%matplotlib inline\n",
    "\n",
    "import numpy as np\n",
    "\n",
    "from create_model import create_model\n",
    "from data_generator import DataGenerator\n",
    "from config import get_config"
   ]
  },
  {
   "cell_type": "code",
   "execution_count": 2,
   "outputs": [
    {
     "name": "stderr",
     "output_type": "stream",
     "text": [
      "2021-05-06 13:05:39.269 | INFO     | data_loader:data_loader:28 - Loading csv and checking audio files\n",
      "2021-05-06 13:05:39.281 | INFO     | data_loader:data_loader:31 - Creating dataset\n",
      "2021-05-06 13:05:39.283 | INFO     | data_loader:data_loader:34 - Validation split is 0.0\n",
      "2021-05-06 13:05:39.422 | INFO     | data_loader:data_loader:47 - Creating train and valid splits\n",
      "2021-05-06 13:05:39.584 | INFO     | data_generator:__init__:21 - DataGenerator instantiated\n"
     ]
    }
   ],
   "source": [
    "conf = get_config()\n",
    "batch_size = 4\n",
    "f = \"bright_vs_dark\"\n",
    "conf[\"features\"] = [f]\n",
    "conf[\"model_name\"] = f\n",
    "conf[\"valid_split\"] = 0.0\n",
    "\n",
    "data_gen = DataGenerator(conf, batch_size)"
   ],
   "metadata": {
    "collapsed": false,
    "pycharm": {
     "name": "#%%\n"
    }
   }
  },
  {
   "cell_type": "code",
   "execution_count": 3,
   "outputs": [
    {
     "name": "stderr",
     "output_type": "stream",
     "text": [
      "2021-05-06 13:05:57.418 | INFO     | create_model:create_model:16 - Creating the model\n",
      "2021-05-06 13:05:59.231 | INFO     | create_model:create_model:30 - Compiling the model\n"
     ]
    }
   ],
   "source": [
    "model = create_model(conf)\n",
    "model.load_weights(\"checkpoints/bright_vs_dark_loss_0.9607_acc_0.61.h5\")"
   ],
   "metadata": {
    "collapsed": false,
    "pycharm": {
     "name": "#%%\n"
    }
   }
  },
  {
   "cell_type": "code",
   "execution_count": 4,
   "outputs": [],
   "source": [
    "data = iter(data_gen.generator(\"train\"))"
   ],
   "metadata": {
    "collapsed": false,
    "pycharm": {
     "name": "#%%\n"
    }
   }
  },
  {
   "cell_type": "code",
   "execution_count": 11,
   "outputs": [
    {
     "name": "stdout",
     "output_type": "stream",
     "text": [
      "==========\n",
      "0 0\n",
      "==========\n",
      "0 0\n",
      "==========\n",
      "0 0\n",
      "==========\n",
      "0 0\n"
     ]
    }
   ],
   "source": [
    "x, y = next(data)\n",
    "preds = model.predict(x)\n",
    "\n",
    "for index in range(0, batch_size):\n",
    "    print(\"=\"*10)\n",
    "    print(np.argmax(y[index]), np.argmax(preds[index]))"
   ],
   "metadata": {
    "collapsed": false,
    "pycharm": {
     "name": "#%%\n"
    }
   }
  },
  {
   "cell_type": "code",
   "execution_count": null,
   "outputs": [],
   "source": [],
   "metadata": {
    "collapsed": false,
    "pycharm": {
     "name": "#%%\n"
    }
   }
  }
 ],
 "metadata": {
  "kernelspec": {
   "display_name": "Python 3",
   "language": "python",
   "name": "python3"
  },
  "language_info": {
   "codemirror_mode": {
    "name": "ipython",
    "version": 2
   },
   "file_extension": ".py",
   "mimetype": "text/x-python",
   "name": "python",
   "nbconvert_exporter": "python",
   "pygments_lexer": "ipython2",
   "version": "2.7.6"
  }
 },
 "nbformat": 4,
 "nbformat_minor": 0
}