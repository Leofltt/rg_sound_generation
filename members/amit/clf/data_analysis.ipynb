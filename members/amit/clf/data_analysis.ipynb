{
 "cells": [
  {
   "cell_type": "code",
   "execution_count": 1,
   "metadata": {
    "collapsed": true
   },
   "outputs": [],
   "source": [
    "%matplotlib inline\n",
    "\n",
    "import os\n",
    "import numpy as np\n",
    "import tensorflow as tf\n",
    "import data_loader\n",
    "import config\n",
    "import audio_processing\n",
    "\n",
    "from tqdm import tqdm"
   ]
  },
  {
   "cell_type": "code",
   "execution_count": 29,
   "outputs": [
    {
     "name": "stderr",
     "output_type": "stream",
     "text": [
      "2021-05-06 13:38:07.007 | INFO     | data_loader:data_loader:28 - Loading csv and checking audio files\n",
      "2021-05-06 13:38:07.016 | INFO     | data_loader:data_loader:31 - Creating dataset\n",
      "2021-05-06 13:38:07.017 | INFO     | data_loader:data_loader:34 - Validation split is 0.0\n",
      "2021-05-06 13:38:07.142 | INFO     | data_loader:data_loader:47 - Creating train and valid splits\n"
     ]
    }
   ],
   "source": [
    "conf = config.get_config()\n",
    "f = \"warm_vs_metallic\"\n",
    "conf.update({\n",
    "    \"features\": [f],\n",
    "    \"valid_split\": 0.0\n",
    "})\n",
    "\n",
    "train, valid = data_loader.data_loader(conf)"
   ],
   "metadata": {
    "collapsed": false,
    "pycharm": {
     "name": "#%%\n"
    }
   }
  },
  {
   "cell_type": "code",
   "execution_count": 30,
   "outputs": [
    {
     "name": "stderr",
     "output_type": "stream",
     "text": [
      "1569it [01:20, 19.51it/s]\n"
     ]
    }
   ],
   "source": [
    "min_level = 50 - conf.get(\"threshold\")\n",
    "max_level = 50 + conf.get(\"threshold\")\n",
    "\n",
    "num_examples = len(train)\n",
    "\n",
    "x_train = np.zeros((num_examples, 513, 3))\n",
    "y_train = np.zeros((num_examples, ))\n",
    "\n",
    "for i, (key, value) in tqdm(enumerate(train.items())):\n",
    "    current_class = 1\n",
    "    file_path = os.path.join(conf.get(\"base_dir\"), f\"{key}.wav\")\n",
    "\n",
    "    for _, feature in enumerate(conf.get(\"features\")):\n",
    "        current_val = int(value[feature])\n",
    "        if current_val < min_level:\n",
    "            current_class = 0\n",
    "        elif current_val > max_level:\n",
    "            current_class = 2\n",
    "\n",
    "    y_train[i] = current_class\n",
    "    h, p, r = audio_processing.get_hpr(file_path, conf)\n",
    "    h = np.abs(h).mean(axis=-1)\n",
    "    p = np.abs(p).mean(axis=-1)\n",
    "    r = np.abs(r).mean(axis=-1)\n",
    "    x_train[i, :, 0] = h\n",
    "    x_train[i, :, 1] = p\n",
    "    x_train[i, :, 2] = r"
   ],
   "metadata": {
    "collapsed": false,
    "pycharm": {
     "name": "#%%\n"
    }
   }
  },
  {
   "cell_type": "code",
   "execution_count": 31,
   "outputs": [],
   "source": [
    "x_train = x_train / x_train.max()"
   ],
   "metadata": {
    "collapsed": false,
    "pycharm": {
     "name": "#%%\n"
    }
   }
  },
  {
   "cell_type": "code",
   "execution_count": 32,
   "outputs": [
    {
     "name": "stdout",
     "output_type": "stream",
     "text": [
      "Model: \"sequential_5\"\n",
      "_________________________________________________________________\n",
      "Layer (type)                 Output Shape              Param #   \n",
      "=================================================================\n",
      "flatten_5 (Flatten)          (None, 1539)              0         \n",
      "_________________________________________________________________\n",
      "dense_16 (Dense)             (None, 512)               788480    \n",
      "_________________________________________________________________\n",
      "dropout_8 (Dropout)          (None, 512)               0         \n",
      "_________________________________________________________________\n",
      "dense_17 (Dense)             (None, 64)                32832     \n",
      "_________________________________________________________________\n",
      "dropout_9 (Dropout)          (None, 64)                0         \n",
      "_________________________________________________________________\n",
      "dense_18 (Dense)             (None, 3)                 195       \n",
      "=================================================================\n",
      "Total params: 821,507\n",
      "Trainable params: 821,507\n",
      "Non-trainable params: 0\n",
      "_________________________________________________________________\n"
     ]
    }
   ],
   "source": [
    "model = tf.keras.models.Sequential([\n",
    "    tf.keras.layers.Flatten(input_shape=(513, 3)),\n",
    "    tf.keras.layers.Dense(512, activation=\"relu\"),\n",
    "    tf.keras.layers.Dropout(0.4),\n",
    "    tf.keras.layers.Dense(64, activation=\"relu\"),\n",
    "    tf.keras.layers.Dropout(0.4),\n",
    "    tf.keras.layers.Dense(3, activation=\"softmax\")\n",
    "])\n",
    "\n",
    "model.compile(\n",
    "    loss=\"sparse_categorical_crossentropy\",\n",
    "    optimizer=\"adam\",\n",
    "    metrics=[\"accuracy\"]\n",
    ")\n",
    "\n",
    "model.summary()"
   ],
   "metadata": {
    "collapsed": false,
    "pycharm": {
     "name": "#%%\n"
    }
   }
  },
  {
   "cell_type": "code",
   "execution_count": 34,
   "outputs": [
    {
     "name": "stdout",
     "output_type": "stream",
     "text": [
      "Epoch 1/50\n",
      "79/79 - 0s - loss: 0.8935 - accuracy: 0.5426 - val_loss: 1.0960 - val_accuracy: 0.4841\n",
      "Epoch 2/50\n",
      "79/79 - 0s - loss: 0.8839 - accuracy: 0.5514 - val_loss: 1.0914 - val_accuracy: 0.4713\n",
      "Epoch 3/50\n",
      "79/79 - 0s - loss: 0.8950 - accuracy: 0.5618 - val_loss: 1.0997 - val_accuracy: 0.4777\n",
      "Epoch 4/50\n",
      "79/79 - 0s - loss: 0.8755 - accuracy: 0.5538 - val_loss: 1.1304 - val_accuracy: 0.5096\n",
      "Epoch 5/50\n",
      "79/79 - 0s - loss: 0.8824 - accuracy: 0.5378 - val_loss: 1.1251 - val_accuracy: 0.4459\n",
      "Epoch 6/50\n",
      "79/79 - 0s - loss: 0.8836 - accuracy: 0.5546 - val_loss: 1.1214 - val_accuracy: 0.4618\n",
      "Epoch 7/50\n",
      "79/79 - 0s - loss: 0.8737 - accuracy: 0.5618 - val_loss: 1.1233 - val_accuracy: 0.4968\n",
      "Epoch 8/50\n",
      "79/79 - 0s - loss: 0.8733 - accuracy: 0.5705 - val_loss: 1.1340 - val_accuracy: 0.4554\n",
      "Epoch 9/50\n",
      "79/79 - 0s - loss: 0.8718 - accuracy: 0.5434 - val_loss: 1.1452 - val_accuracy: 0.4777\n",
      "Epoch 10/50\n",
      "79/79 - 0s - loss: 0.8653 - accuracy: 0.5753 - val_loss: 1.1377 - val_accuracy: 0.4809\n",
      "Epoch 11/50\n",
      "79/79 - 0s - loss: 0.8633 - accuracy: 0.5777 - val_loss: 1.1422 - val_accuracy: 0.4873\n",
      "Epoch 12/50\n",
      "79/79 - 0s - loss: 0.8616 - accuracy: 0.5681 - val_loss: 1.1702 - val_accuracy: 0.4204\n",
      "Epoch 13/50\n",
      "79/79 - 0s - loss: 0.8602 - accuracy: 0.5841 - val_loss: 1.1515 - val_accuracy: 0.4299\n",
      "Epoch 14/50\n",
      "79/79 - 0s - loss: 0.8483 - accuracy: 0.5809 - val_loss: 1.1515 - val_accuracy: 0.4777\n",
      "Epoch 15/50\n",
      "79/79 - 0s - loss: 0.8647 - accuracy: 0.5817 - val_loss: 1.1597 - val_accuracy: 0.5127\n",
      "Epoch 16/50\n",
      "79/79 - 0s - loss: 0.8437 - accuracy: 0.5777 - val_loss: 1.1991 - val_accuracy: 0.5064\n",
      "Epoch 17/50\n",
      "79/79 - 0s - loss: 0.8574 - accuracy: 0.5833 - val_loss: 1.1867 - val_accuracy: 0.4618\n",
      "Epoch 18/50\n",
      "79/79 - 0s - loss: 0.8366 - accuracy: 0.5825 - val_loss: 1.1795 - val_accuracy: 0.4745\n",
      "Epoch 19/50\n",
      "79/79 - 0s - loss: 0.8329 - accuracy: 0.6088 - val_loss: 1.1689 - val_accuracy: 0.5000\n",
      "Epoch 20/50\n",
      "79/79 - 0s - loss: 0.8284 - accuracy: 0.5825 - val_loss: 1.2253 - val_accuracy: 0.5000\n",
      "Epoch 21/50\n",
      "79/79 - 0s - loss: 0.8373 - accuracy: 0.5761 - val_loss: 1.2247 - val_accuracy: 0.4682\n",
      "Epoch 22/50\n",
      "79/79 - 0s - loss: 0.8319 - accuracy: 0.5904 - val_loss: 1.2368 - val_accuracy: 0.4108\n",
      "Epoch 23/50\n",
      "79/79 - 0s - loss: 0.8305 - accuracy: 0.6016 - val_loss: 1.2119 - val_accuracy: 0.4650\n",
      "Epoch 24/50\n",
      "79/79 - 0s - loss: 0.8240 - accuracy: 0.5849 - val_loss: 1.2427 - val_accuracy: 0.4427\n",
      "Epoch 25/50\n",
      "79/79 - 0s - loss: 0.8295 - accuracy: 0.5896 - val_loss: 1.2162 - val_accuracy: 0.4586\n",
      "Epoch 26/50\n",
      "79/79 - 0s - loss: 0.8239 - accuracy: 0.5817 - val_loss: 1.2417 - val_accuracy: 0.4713\n",
      "Epoch 27/50\n",
      "79/79 - 0s - loss: 0.8274 - accuracy: 0.6064 - val_loss: 1.2630 - val_accuracy: 0.4236\n",
      "Epoch 28/50\n",
      "79/79 - 0s - loss: 0.8470 - accuracy: 0.5713 - val_loss: 1.2226 - val_accuracy: 0.4809\n",
      "Epoch 29/50\n",
      "79/79 - 0s - loss: 0.8135 - accuracy: 0.5833 - val_loss: 1.2730 - val_accuracy: 0.4618\n",
      "Epoch 30/50\n",
      "79/79 - 0s - loss: 0.8305 - accuracy: 0.5793 - val_loss: 1.2655 - val_accuracy: 0.4395\n",
      "Epoch 31/50\n",
      "79/79 - 0s - loss: 0.8239 - accuracy: 0.5936 - val_loss: 1.2582 - val_accuracy: 0.4809\n",
      "Epoch 32/50\n",
      "79/79 - 0s - loss: 0.8101 - accuracy: 0.6048 - val_loss: 1.2596 - val_accuracy: 0.4841\n",
      "Epoch 33/50\n",
      "79/79 - 0s - loss: 0.8049 - accuracy: 0.6151 - val_loss: 1.2837 - val_accuracy: 0.4682\n",
      "Epoch 34/50\n",
      "79/79 - 0s - loss: 0.8153 - accuracy: 0.5984 - val_loss: 1.2617 - val_accuracy: 0.4904\n",
      "Epoch 35/50\n",
      "79/79 - 0s - loss: 0.7962 - accuracy: 0.6088 - val_loss: 1.2968 - val_accuracy: 0.4745\n",
      "Epoch 36/50\n",
      "79/79 - 0s - loss: 0.8153 - accuracy: 0.6064 - val_loss: 1.2752 - val_accuracy: 0.4172\n",
      "Epoch 37/50\n",
      "79/79 - 0s - loss: 0.8025 - accuracy: 0.6120 - val_loss: 1.2734 - val_accuracy: 0.4650\n",
      "Epoch 38/50\n",
      "79/79 - 0s - loss: 0.8104 - accuracy: 0.5968 - val_loss: 1.2742 - val_accuracy: 0.4427\n",
      "Epoch 39/50\n",
      "79/79 - 0s - loss: 0.8008 - accuracy: 0.6199 - val_loss: 1.2889 - val_accuracy: 0.4586\n",
      "Epoch 40/50\n",
      "79/79 - 0s - loss: 0.8021 - accuracy: 0.6096 - val_loss: 1.2886 - val_accuracy: 0.4682\n",
      "Epoch 41/50\n",
      "79/79 - 0s - loss: 0.7920 - accuracy: 0.6382 - val_loss: 1.3308 - val_accuracy: 0.5000\n",
      "Epoch 42/50\n",
      "79/79 - 0s - loss: 0.8051 - accuracy: 0.6032 - val_loss: 1.3046 - val_accuracy: 0.4554\n",
      "Epoch 43/50\n",
      "79/79 - 0s - loss: 0.7707 - accuracy: 0.6375 - val_loss: 1.3480 - val_accuracy: 0.4586\n",
      "Epoch 44/50\n",
      "79/79 - 0s - loss: 0.7809 - accuracy: 0.6239 - val_loss: 1.3238 - val_accuracy: 0.4809\n",
      "Epoch 45/50\n",
      "79/79 - 0s - loss: 0.7878 - accuracy: 0.6072 - val_loss: 1.3134 - val_accuracy: 0.4650\n",
      "Epoch 46/50\n",
      "79/79 - 0s - loss: 0.7681 - accuracy: 0.6454 - val_loss: 1.3714 - val_accuracy: 0.4522\n",
      "Epoch 47/50\n",
      "79/79 - 0s - loss: 0.7816 - accuracy: 0.6279 - val_loss: 1.3348 - val_accuracy: 0.4777\n",
      "Epoch 48/50\n",
      "79/79 - 0s - loss: 0.7696 - accuracy: 0.6398 - val_loss: 1.3599 - val_accuracy: 0.4904\n",
      "Epoch 49/50\n",
      "79/79 - 0s - loss: 0.7786 - accuracy: 0.6207 - val_loss: 1.4118 - val_accuracy: 0.4873\n",
      "Epoch 50/50\n",
      "79/79 - 0s - loss: 0.7921 - accuracy: 0.6040 - val_loss: 1.3645 - val_accuracy: 0.4586\n"
     ]
    }
   ],
   "source": [
    "_ = model.fit(\n",
    "    x_train, y_train,\n",
    "    validation_split=0.2,\n",
    "    epochs=50,\n",
    "    batch_size=16,\n",
    "    verbose=2\n",
    ")"
   ],
   "metadata": {
    "collapsed": false,
    "pycharm": {
     "name": "#%%\n"
    }
   }
  },
  {
   "cell_type": "code",
   "execution_count": null,
   "outputs": [],
   "source": [],
   "metadata": {
    "collapsed": false,
    "pycharm": {
     "name": "#%%\n"
    }
   }
  }
 ],
 "metadata": {
  "kernelspec": {
   "display_name": "Python 3",
   "language": "python",
   "name": "python3"
  },
  "language_info": {
   "codemirror_mode": {
    "name": "ipython",
    "version": 2
   },
   "file_extension": ".py",
   "mimetype": "text/x-python",
   "name": "python",
   "nbconvert_exporter": "python",
   "pygments_lexer": "ipython2",
   "version": "2.7.6"
  }
 },
 "nbformat": 4,
 "nbformat_minor": 0
}