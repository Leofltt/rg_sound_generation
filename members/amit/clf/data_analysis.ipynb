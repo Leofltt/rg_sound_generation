{
 "cells": [
  {
   "cell_type": "code",
   "execution_count": 1,
   "metadata": {
    "collapsed": true
   },
   "outputs": [],
   "source": [
    "%matplotlib inline\n",
    "\n",
    "import os\n",
    "import numpy as np\n",
    "import tensorflow as tf\n",
    "import data_loader\n",
    "import config\n",
    "import audio_processing\n",
    "\n",
    "from tqdm import tqdm"
   ]
  },
  {
   "cell_type": "code",
   "execution_count": 2,
   "outputs": [
    {
     "name": "stderr",
     "output_type": "stream",
     "text": [
      "2021-05-07 12:06:12.475 | INFO     | data_loader:data_loader:28 - Loading csv and checking audio files\n",
      "2021-05-07 12:06:12.490 | INFO     | data_loader:data_loader:31 - Creating dataset\n",
      "2021-05-07 12:06:12.491 | INFO     | data_loader:data_loader:34 - Validation split is 0.0\n",
      "2021-05-07 12:06:12.670 | INFO     | data_loader:data_loader:47 - Creating train and valid splits\n"
     ]
    }
   ],
   "source": [
    "conf = config.get_config()\n",
    "f = \"bright_vs_dark\"\n",
    "conf.update({\n",
    "    \"features\": [f],\n",
    "    \"valid_split\": 0.0\n",
    "})\n",
    "\n",
    "train, valid = data_loader.data_loader(conf)"
   ],
   "metadata": {
    "collapsed": false,
    "pycharm": {
     "name": "#%%\n"
    }
   }
  },
  {
   "cell_type": "code",
   "execution_count": 3,
   "outputs": [
    {
     "name": "stderr",
     "output_type": "stream",
     "text": [
      "1807it [01:32, 19.59it/s]\n"
     ]
    }
   ],
   "source": [
    "min_level = 50 - conf.get(\"threshold\")\n",
    "max_level = 50 + conf.get(\"threshold\")\n",
    "\n",
    "num_examples = len(train)\n",
    "\n",
    "x_train = np.zeros((num_examples, 513, 3))\n",
    "y_train = np.zeros((num_examples, ))\n",
    "\n",
    "for i, (key, value) in tqdm(enumerate(train.items())):\n",
    "    current_class = 1\n",
    "    file_path = os.path.join(conf.get(\"base_dir\"), f\"{key}.wav\")\n",
    "\n",
    "    for _, feature in enumerate(conf.get(\"features\")):\n",
    "        current_val = int(value[feature])\n",
    "        if current_val < min_level:\n",
    "            current_class = 0\n",
    "        elif current_val > max_level:\n",
    "            current_class = 2\n",
    "\n",
    "    y_train[i] = current_class\n",
    "    h, p, r = audio_processing.get_hpr(file_path, conf)\n",
    "    h = np.abs(h).mean(axis=-1)\n",
    "    p = np.abs(p).mean(axis=-1)\n",
    "    r = np.abs(r).mean(axis=-1)\n",
    "    x_train[i, :, 0] = h\n",
    "    x_train[i, :, 1] = p\n",
    "    x_train[i, :, 2] = r"
   ],
   "metadata": {
    "collapsed": false,
    "pycharm": {
     "name": "#%%\n"
    }
   }
  },
  {
   "cell_type": "code",
   "execution_count": 4,
   "outputs": [
    {
     "name": "stdout",
     "output_type": "stream",
     "text": [
      "[0.59988932 0.15716657 0.24294411]\n"
     ]
    }
   ],
   "source": [
    "c, u = np.unique(y_train, return_counts=True)\n",
    "\n",
    "print(u / u.sum())"
   ],
   "metadata": {
    "collapsed": false,
    "pycharm": {
     "name": "#%%\n"
    }
   }
  },
  {
   "cell_type": "code",
   "execution_count": null,
   "outputs": [],
   "source": [
    "x_train = x_train / x_train.max()"
   ],
   "metadata": {
    "collapsed": false,
    "pycharm": {
     "name": "#%%\n"
    }
   }
  },
  {
   "cell_type": "code",
   "execution_count": 20,
   "outputs": [
    {
     "name": "stdout",
     "output_type": "stream",
     "text": [
      "Model: \"sequential_4\"\n",
      "_________________________________________________________________\n",
      "Layer (type)                 Output Shape              Param #   \n",
      "=================================================================\n",
      "flatten_4 (Flatten)          (None, 1539)              0         \n",
      "_________________________________________________________________\n",
      "dense_12 (Dense)             (None, 512)               788480    \n",
      "_________________________________________________________________\n",
      "dropout_8 (Dropout)          (None, 512)               0         \n",
      "_________________________________________________________________\n",
      "dense_13 (Dense)             (None, 64)                32832     \n",
      "_________________________________________________________________\n",
      "dropout_9 (Dropout)          (None, 64)                0         \n",
      "_________________________________________________________________\n",
      "dense_14 (Dense)             (None, 3)                 195       \n",
      "=================================================================\n",
      "Total params: 821,507\n",
      "Trainable params: 821,507\n",
      "Non-trainable params: 0\n",
      "_________________________________________________________________\n"
     ]
    }
   ],
   "source": [
    "model = tf.keras.models.Sequential([\n",
    "    tf.keras.layers.Flatten(input_shape=(513, 3)),\n",
    "    tf.keras.layers.Dense(512, activation=\"relu\"),\n",
    "    tf.keras.layers.Dropout(0.4),\n",
    "    tf.keras.layers.Dense(64, activation=\"relu\"),\n",
    "    tf.keras.layers.Dropout(0.4),\n",
    "    tf.keras.layers.Dense(3, activation=\"softmax\")\n",
    "])\n",
    "\n",
    "model.compile(\n",
    "    loss=\"sparse_categorical_crossentropy\",\n",
    "    optimizer=\"adam\",\n",
    "    metrics=[\"accuracy\"]\n",
    ")\n",
    "\n",
    "model.summary()"
   ],
   "metadata": {
    "collapsed": false,
    "pycharm": {
     "name": "#%%\n"
    }
   }
  },
  {
   "cell_type": "code",
   "execution_count": 22,
   "outputs": [
    {
     "name": "stdout",
     "output_type": "stream",
     "text": [
      "Epoch 1/10\n",
      "35/35 - 0s - loss: 0.8413 - accuracy: 0.6284 - val_loss: 0.8214 - val_accuracy: 0.6129\n",
      "Epoch 2/10\n",
      "35/35 - 0s - loss: 0.8365 - accuracy: 0.6373 - val_loss: 0.8177 - val_accuracy: 0.6129\n",
      "Epoch 3/10\n",
      "35/35 - 0s - loss: 0.8297 - accuracy: 0.6338 - val_loss: 0.8292 - val_accuracy: 0.5968\n",
      "Epoch 4/10\n",
      "35/35 - 0s - loss: 0.8174 - accuracy: 0.6463 - val_loss: 0.8344 - val_accuracy: 0.5806\n",
      "Epoch 5/10\n",
      "35/35 - 0s - loss: 0.8167 - accuracy: 0.6445 - val_loss: 0.8358 - val_accuracy: 0.5806\n",
      "Epoch 6/10\n",
      "35/35 - 0s - loss: 0.8202 - accuracy: 0.6409 - val_loss: 0.8408 - val_accuracy: 0.5806\n",
      "Epoch 7/10\n",
      "35/35 - 0s - loss: 0.8217 - accuracy: 0.6409 - val_loss: 0.8237 - val_accuracy: 0.5968\n",
      "Epoch 8/10\n",
      "35/35 - 0s - loss: 0.8078 - accuracy: 0.6463 - val_loss: 0.8214 - val_accuracy: 0.5968\n",
      "Epoch 9/10\n",
      "35/35 - 0s - loss: 0.8167 - accuracy: 0.6373 - val_loss: 0.8291 - val_accuracy: 0.5806\n",
      "Epoch 10/10\n",
      "35/35 - 0s - loss: 0.8075 - accuracy: 0.6517 - val_loss: 0.8197 - val_accuracy: 0.5968\n"
     ]
    }
   ],
   "source": [
    "_ = model.fit(\n",
    "    x_train, y_train,\n",
    "    validation_split=0.1,\n",
    "    epochs=10,\n",
    "    batch_size=16,\n",
    "    verbose=2\n",
    ")"
   ],
   "metadata": {
    "collapsed": false,
    "pycharm": {
     "name": "#%%\n"
    }
   }
  },
  {
   "cell_type": "code",
   "execution_count": null,
   "outputs": [],
   "source": [],
   "metadata": {
    "collapsed": false,
    "pycharm": {
     "name": "#%%\n"
    }
   }
  }
 ],
 "metadata": {
  "kernelspec": {
   "display_name": "Python 3",
   "language": "python",
   "name": "python3"
  },
  "language_info": {
   "codemirror_mode": {
    "name": "ipython",
    "version": 2
   },
   "file_extension": ".py",
   "mimetype": "text/x-python",
   "name": "python",
   "nbconvert_exporter": "python",
   "pygments_lexer": "ipython2",
   "version": "2.7.6"
  }
 },
 "nbformat": 4,
 "nbformat_minor": 0
}