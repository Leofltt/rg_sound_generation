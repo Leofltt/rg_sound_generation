{
 "cells": [
  {
   "cell_type": "code",
   "execution_count": null,
   "id": "lightweight-helicopter",
   "metadata": {},
   "outputs": [],
   "source": [
    "%matplotlib inline\n",
    "\n",
    "import models\n",
    "import data\n",
    "import matplotlib.pyplot as plt"
   ]
  },
  {
   "cell_type": "code",
   "execution_count": null,
   "id": "mineral-chicken",
   "metadata": {},
   "outputs": [],
   "source": [
    "def plot_z(z_gt, z_pred):\n",
    "    plt.figure(figsize=(12, 4))\n",
    "    \n",
    "    plt.subplot(121)\n",
    "    for i in range(0, 16):\n",
    "        plt.plot(range(0, 1024), z_gt[:, i])\n",
    "    \n",
    "    plt.subplot(122)\n",
    "    for i in range(0, 16):\n",
    "        plt.plot(range(0, 1024), z_pred[:, i])\n",
    "    \n",
    "    plt.show()"
   ]
  },
  {
   "cell_type": "code",
   "execution_count": null,
   "id": "egyptian-voice",
   "metadata": {},
   "outputs": [],
   "source": [
    "generator = data.data_generator('d:/soundofai/complete_data', 'test', 1)\n",
    "\n",
    "z_vae = models.create_vae(16, 16)\n",
    "z_vae.load_weights('best.h5')"
   ]
  },
  {
   "cell_type": "code",
   "execution_count": null,
   "id": "proud-console",
   "metadata": {},
   "outputs": [],
   "source": [
    "z_gt, _ = next(generator)\n",
    "\n",
    "z_pred = z_vae(z_gt)\n",
    "\n",
    "plot_z(z_gt[0], z_pred[0])"
   ]
  },
  {
   "cell_type": "code",
   "execution_count": null,
   "id": "scenic-duncan",
   "metadata": {},
   "outputs": [],
   "source": []
  }
 ],
 "metadata": {
  "kernelspec": {
   "display_name": "Python 3",
   "language": "python",
   "name": "python3"
  },
  "language_info": {
   "codemirror_mode": {
    "name": "ipython",
    "version": 3
   },
   "file_extension": ".py",
   "mimetype": "text/x-python",
   "name": "python",
   "nbconvert_exporter": "python",
   "pygments_lexer": "ipython3",
   "version": "3.8.5"
  }
 },
 "nbformat": 4,
 "nbformat_minor": 5
}
