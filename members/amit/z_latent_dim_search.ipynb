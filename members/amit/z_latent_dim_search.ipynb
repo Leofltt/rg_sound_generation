{
 "cells": [
  {
   "cell_type": "code",
   "execution_count": null,
   "id": "single-profit",
   "metadata": {},
   "outputs": [],
   "source": [
    "import tensorflow as tf\n",
    "import os\n",
    "\n",
    "from kerastuner.tuners import RandomSearch\n",
    "from tensorflow.keras.layers import Input, Dense, Conv1D, Flatten, Dropout, BatchNormalization\n",
    "from tensorflow.keras.layers import UpSampling1D, Reshape, GRU, Lambda\n",
    "\n",
    "from tfrecord_provider import CompleteTFRecordProvider\n",
    "\n",
    "print(tf.__version__)\n",
    "print(tf.config.list_physical_devices())"
   ]
  },
  {
   "cell_type": "code",
   "execution_count": null,
   "id": "turned-springer",
   "metadata": {},
   "outputs": [],
   "source": [
    "def create_model(hp):\n",
    "    latent_dim = hp.Choice('latent_dim', values=[8, 16, 32, 48])\n",
    "    input_ = Input(shape=(1000, 16), name='z_input')\n",
    "    \n",
    "    x = input_\n",
    "    \n",
    "    for i in range(0, 4):\n",
    "        num_filters = 2**(i + 4)\n",
    "        x = Conv1D(num_filters, 7, strides=2, activation='relu', name=f'conv_{i + 1}')(x)\n",
    "        x = BatchNormalization(name=f'bn_{i + 1}')(x)\n",
    "    \n",
    "    x = Flatten(name='flatten')(x)\n",
    "    x = Dropout(0.4)(x)\n",
    "    \n",
    "    x = Dense(latent_dim, activation='relu')(x)\n",
    "    x = Reshape((latent_dim, 1), name='reshape')(x)\n",
    "    \n",
    "    for i in range(3, 0, -1):\n",
    "        num_filters = 2**(8 - i)\n",
    "        x = UpSampling1D(2, name=f'up_{i + 1}')(x)\n",
    "        x = Conv1D(num_filters, 7, activation='relu', name=f'up_conv_{i + 1}')(x)\n",
    "        \n",
    "    x = GRU(512, return_sequences=True, name='gru_1')(x)\n",
    "    x = GRU(1000, return_sequences=True, name='gru_2')(x)\n",
    "    x = Lambda(lambda x: tf.transpose(x, [0, 2, 1]), name='lambda')(x)\n",
    "    \n",
    "    output_ = Dense(16, activation='linear', name='z_output')(x)\n",
    "    \n",
    "    model = tf.keras.models.Model(\n",
    "        input_, output_,\n",
    "        name='ae'\n",
    "    )\n",
    "    \n",
    "    model.compile(\n",
    "        loss='mse',\n",
    "        optimizer='adam'\n",
    "    )\n",
    "    return model"
   ]
  },
  {
   "cell_type": "code",
   "execution_count": null,
   "id": "thorough-defendant",
   "metadata": {},
   "outputs": [],
   "source": [
    "tuner = RandomSearch(\n",
    "    create_model,\n",
    "    objective='val_loss',\n",
    "    max_trials=4,\n",
    "    executions_per_trial=1,\n",
    "    directory='trials',\n",
    "    project_name='z_latent_dimension_search'\n",
    ")"
   ]
  },
  {
   "cell_type": "code",
   "execution_count": null,
   "id": "liberal-living",
   "metadata": {},
   "outputs": [],
   "source": [
    "tuner.search_space_summary()"
   ]
  },
  {
   "cell_type": "code",
   "execution_count": null,
   "id": "cheap-poker",
   "metadata": {},
   "outputs": [],
   "source": [
    "def complete_record_generator(dataset_dir, set_name, batch_size):\n",
    "    tfrecord_path = os.path.join(dataset_dir, set_name, 'complete.tfrecord*')\n",
    "    return iter(CompleteTFRecordProvider(tfrecord_path).get_batch(batch_size=batch_size))\n",
    "\n",
    "\n",
    "def data_generator(complete_data_generator):\n",
    "    while True:\n",
    "        features = next(complete_data_generator)\n",
    "        batch_size = features['z'].shape[0]\n",
    "        z = tf.reshape(features['z'], (batch_size, 1000, 16))\n",
    "        inputs = {'z_input': z}\n",
    "        outputs = {'z_output': z}\n",
    "        yield inputs, outputs"
   ]
  },
  {
   "cell_type": "code",
   "execution_count": null,
   "id": "selective-cable",
   "metadata": {},
   "outputs": [],
   "source": [
    "batch_size = 16\n",
    "\n",
    "train_generator = complete_record_generator('d:/soundofai/complete_data', 'train', batch_size)\n",
    "valid_generator = complete_record_generator('d:/soundofai/complete_data', 'valid', batch_size)\n",
    "\n",
    "total_examples = 32690\n",
    "validation_examples = 2081\n",
    "steps = int(total_examples / batch_size)\n",
    "validation_steps = int(validation_examples / batch_size)"
   ]
  },
  {
   "cell_type": "code",
   "execution_count": null,
   "id": "enabling-freedom",
   "metadata": {},
   "outputs": [],
   "source": [
    "tuner.search(\n",
    "    data_generator(train_generator),\n",
    "    epochs=10,\n",
    "    steps_per_epoch=steps,\n",
    "    validation_data=data_generator(valid_generator),\n",
    "    validation_steps=validation_steps\n",
    ")"
   ]
  },
  {
   "cell_type": "code",
   "execution_count": null,
   "id": "expected-atlantic",
   "metadata": {},
   "outputs": [],
   "source": []
  }
 ],
 "metadata": {
  "kernelspec": {
   "display_name": "Python 3",
   "language": "python",
   "name": "python3"
  },
  "language_info": {
   "codemirror_mode": {
    "name": "ipython",
    "version": 3
   },
   "file_extension": ".py",
   "mimetype": "text/x-python",
   "name": "python",
   "nbconvert_exporter": "python",
   "pygments_lexer": "ipython3",
   "version": "3.8.5"
  }
 },
 "nbformat": 4,
 "nbformat_minor": 5
}
