{
 "cells": [
  {
   "cell_type": "code",
   "execution_count": null,
   "id": "growing-stage",
   "metadata": {},
   "outputs": [],
   "source": [
    "%matplotlib inline\n",
    "\n",
    "import matplotlib.pyplot as plt\n",
    "import numpy as np\n",
    "import json\n",
    "import pandas as pd"
   ]
  },
  {
   "cell_type": "code",
   "execution_count": null,
   "id": "twenty-arthur",
   "metadata": {},
   "outputs": [],
   "source": [
    "root_dir = 'd:/soundofai/nsynth-guitar-subset/train/'\n",
    "dataset_file = 'd:/soundofai/nsynth-guitar-subset/train/examples.json'\n",
    "audio_dir = 'd:/soundofai/nsynth-guitar-subset/train/audio/'"
   ]
  },
  {
   "cell_type": "code",
   "execution_count": null,
   "id": "controlled-toner",
   "metadata": {},
   "outputs": [],
   "source": [
    "index_to_qualities = {\n",
    "    0: 'bright',\n",
    "    1: 'dark',\n",
    "    2: 'distortion',\n",
    "    3: 'fast_decay',\n",
    "    4: 'long_release',\n",
    "    5: 'multiphonic',\n",
    "    6: 'nonlinear_env',\n",
    "    7: 'percussive',\n",
    "    8: 'reverb',\n",
    "    9: 'tempo_sync'\n",
    "}\n",
    "\n",
    "qualities_to_index = dict((v, k) for k, v in index_to_qualities.items())\n",
    "\n",
    "index_to_source = {\n",
    "    0: 'acoustic',\n",
    "    1: 'electronic',\n",
    "    2: 'synthetic'\n",
    "}\n",
    "\n",
    "source_to_index = dict((v, k) for k, v in index_to_source.items())"
   ]
  },
  {
   "cell_type": "code",
   "execution_count": null,
   "id": "under-actor",
   "metadata": {},
   "outputs": [],
   "source": [
    "with open(dataset_file, 'r') as f:\n",
    "    data = json.load(f)"
   ]
  },
  {
   "cell_type": "code",
   "execution_count": null,
   "id": "prompt-polyester",
   "metadata": {},
   "outputs": [],
   "source": [
    "# all labels\n",
    "_, v = next(iter(data.items()))\n",
    "\n",
    "list(v.keys())"
   ]
  },
  {
   "cell_type": "code",
   "execution_count": null,
   "id": "favorite-tunnel",
   "metadata": {},
   "outputs": [],
   "source": [
    "ignore_cols = [\n",
    "    'note', # unique identifier, not relevant\n",
    "    'sample_rate', # sample rate is 16000 for all notes\n",
    "    'instrument_source', # numeric value of instrument_source_str, duplicate\n",
    "    'instrument_family', # numeric value of instrument_family_str, duplicate\n",
    "    'instrument_family_str', # we can ignore, since we are looking only at 3\n",
    "    'qualities', # numeric values of qualities_str, duplicate\n",
    "    'qualities_str', # list of qualities will be added as independent columns\n",
    "    'note_str', # unique identifier, not relevant\n",
    "    'instrument', # unique identifier, not relevant\n",
    "    'instrument_str', # unique identifier, not relevant\n",
    "    'instrument_source_str' # will add as qualities\n",
    "]"
   ]
  },
  {
   "cell_type": "code",
   "execution_count": null,
   "id": "perfect-setting",
   "metadata": {},
   "outputs": [],
   "source": [
    "columns = [x for x in list(v.keys()) if x not in ignore_cols]\n",
    "columns = columns + list(qualities_to_index.keys()) + list(source_to_index.keys())\n",
    "print(columns)"
   ]
  },
  {
   "cell_type": "code",
   "execution_count": null,
   "id": "floating-entrepreneur",
   "metadata": {},
   "outputs": [],
   "source": [
    "dataset = dict((c, []) for c in columns)\n",
    "\n",
    "for key, value in data.items():\n",
    "    dataset['pitch'].append(value.get('pitch') or 0)\n",
    "    dataset['velocity'].append(value.get('velocity') or 0)\n",
    "    \n",
    "    for q in qualities_to_index.keys():\n",
    "        if q in value.get('qualities_str'):\n",
    "            dataset[q].append(1)\n",
    "        else:\n",
    "            dataset[q].append(0)\n",
    "    \n",
    "    for s in source_to_index.keys():\n",
    "        if s == value.get('instrument_source_str'):\n",
    "            dataset[s].append(1)\n",
    "        else:\n",
    "            dataset[s].append(0)"
   ]
  },
  {
   "cell_type": "code",
   "execution_count": null,
   "id": "literary-crowd",
   "metadata": {},
   "outputs": [],
   "source": [
    "df = pd.DataFrame(dataset)"
   ]
  },
  {
   "cell_type": "code",
   "execution_count": null,
   "id": "exempt-peter",
   "metadata": {},
   "outputs": [],
   "source": [
    "df.head()"
   ]
  },
  {
   "cell_type": "code",
   "execution_count": null,
   "id": "characteristic-celebrity",
   "metadata": {},
   "outputs": [],
   "source": [
    "df.describe()"
   ]
  },
  {
   "cell_type": "code",
   "execution_count": null,
   "id": "utility-association",
   "metadata": {},
   "outputs": [],
   "source": [
    "plt.figure(figsize=(16, 6))\n",
    "plt.subplot(1, 2, 1)\n",
    "df.loc[:, 'pitch'].hist()\n",
    "plt.ylabel('Count')\n",
    "plt.xlabel('Pitch')\n",
    "plt.subplot(1, 2, 2)\n",
    "df.loc[:, 'velocity'].hist()\n",
    "plt.ylabel('Count')\n",
    "plt.xlabel('Velocity')\n",
    "plt.show()"
   ]
  },
  {
   "cell_type": "code",
   "execution_count": null,
   "id": "reliable-france",
   "metadata": {},
   "outputs": [],
   "source": [
    "qualities = df.iloc[:, 2:]"
   ]
  },
  {
   "cell_type": "code",
   "execution_count": null,
   "id": "instructional-marker",
   "metadata": {},
   "outputs": [],
   "source": [
    "qualities.sum()"
   ]
  },
  {
   "cell_type": "code",
   "execution_count": null,
   "id": "supposed-electronics",
   "metadata": {},
   "outputs": [],
   "source": [
    "# tempo sync does not seem very meaningful\n",
    "qualities = qualities.drop(columns=['tempo_sync'])\n",
    "qualities.corr()"
   ]
  },
  {
   "cell_type": "code",
   "execution_count": null,
   "id": "valuable-speaking",
   "metadata": {},
   "outputs": [],
   "source": [
    "q_cols = list(qualities.columns)\n",
    "q_cols"
   ]
  },
  {
   "cell_type": "code",
   "execution_count": null,
   "id": "available-durham",
   "metadata": {},
   "outputs": [],
   "source": [
    "fig = plt.figure(figsize=(20, 20))\n",
    "ax = fig.add_subplot(1, 1, 1)\n",
    "cax = ax.matshow(qualities.corr())\n",
    "fig.colorbar(cax)\n",
    "ax.set_xticks(list(range(0, len(q_cols))))\n",
    "ax.set_yticks(list(range(0, len(q_cols))))\n",
    "ax.set_xticklabels(q_cols)\n",
    "ax.set_yticklabels(q_cols)\n",
    "plt.show()"
   ]
  },
  {
   "cell_type": "code",
   "execution_count": null,
   "id": "numerical-spirit",
   "metadata": {},
   "outputs": [],
   "source": []
  }
 ],
 "metadata": {
  "kernelspec": {
   "display_name": "Python 3",
   "language": "python",
   "name": "python3"
  },
  "language_info": {
   "codemirror_mode": {
    "name": "ipython",
    "version": 3
   },
   "file_extension": ".py",
   "mimetype": "text/x-python",
   "name": "python",
   "nbconvert_exporter": "python",
   "pygments_lexer": "ipython3",
   "version": "3.8.5"
  }
 },
 "nbformat": 4,
 "nbformat_minor": 5
}
