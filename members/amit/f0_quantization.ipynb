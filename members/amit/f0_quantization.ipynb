{
 "cells": [
  {
   "cell_type": "markdown",
   "source": [
    "## Finding Clusters for F0 MIDI Pitch 60"
   ],
   "metadata": {
    "collapsed": false
   }
  },
  {
   "cell_type": "code",
   "execution_count": null,
   "outputs": [],
   "source": [
    "import numpy as np\n",
    "import pickle\n",
    "\n",
    "from sklearn.cluster import MeanShift\n",
    "from tfrecord_provider import CompleteTFRecordProvider"
   ],
   "metadata": {
    "collapsed": false,
    "pycharm": {
     "name": "#%%\n"
    }
   }
  },
  {
   "cell_type": "code",
   "execution_count": null,
   "outputs": [],
   "source": [
    "tfrecord_path = 'd:/soundofai/prepare_pitch_60_data/pitch_60_dataset/train/complete.tfrecord'\n",
    "\n",
    "data_generator = CompleteTFRecordProvider(tfrecord_path).get_batch(batch_size=1)\n",
    "\n",
    "f0_scaled = []\n",
    "\n",
    "for features in data_generator.take(400):\n",
    "    f0_scaled.append(features['f0_scaled'].numpy())"
   ],
   "metadata": {
    "collapsed": false,
    "pycharm": {
     "name": "#%%\n"
    }
   }
  },
  {
   "cell_type": "code",
   "execution_count": null,
   "outputs": [],
   "source": [
    "f0_scaled = np.squeeze(np.array(f0_scaled))\n",
    "f0_scaled.shape"
   ],
   "metadata": {
    "collapsed": false,
    "pycharm": {
     "name": "#%%\n"
    }
   }
  },
  {
   "cell_type": "code",
   "execution_count": null,
   "outputs": [],
   "source": [
    "for steps in [1000, 500, 250]:\n",
    "    print(f'Mean with {steps} time steps:', f0_scaled[:, :steps].mean())\n",
    "    print(f'STD with {steps} time steps:', f0_scaled[:, :steps].std())\n",
    "    print('=' * 40)"
   ],
   "metadata": {
    "collapsed": false,
    "pycharm": {
     "name": "#%%\n"
    }
   }
  },
  {
   "cell_type": "code",
   "execution_count": null,
   "outputs": [],
   "source": [
    "steps = 250 # 1 second\n",
    "\n",
    "f0_scaled.shape"
   ],
   "metadata": {
    "collapsed": false,
    "pycharm": {
     "name": "#%%\n"
    }
   }
  },
  {
   "cell_type": "code",
   "execution_count": null,
   "outputs": [],
   "source": [
    "examples = []\n",
    "mean = f0_scaled[:, :steps].mean()\n",
    "std = f0_scaled[:, :steps].std()\n",
    "\n",
    "for i in range(0, 400):\n",
    "    for t in range(0, steps):\n",
    "        value = f0_scaled[i, t]\n",
    "        if mean - 2 * std < value < mean + 2 * std:\n",
    "            examples.append(value)"
   ],
   "metadata": {
    "collapsed": false,
    "pycharm": {
     "name": "#%%\n"
    }
   }
  },
  {
   "cell_type": "code",
   "execution_count": null,
   "outputs": [],
   "source": [
    "X = np.array(examples)\n",
    "X = X.reshape(-1, 1)\n",
    "\n",
    "clustering = MeanShift(n_jobs=-1).fit(X)"
   ],
   "metadata": {
    "collapsed": false,
    "pycharm": {
     "name": "#%%\n"
    }
   }
  },
  {
   "cell_type": "code",
   "execution_count": null,
   "outputs": [],
   "source": [
    "with open('clustering.pkl', 'wb') as f:\n",
    "    pickle.dump(clustering, f)"
   ],
   "metadata": {
    "collapsed": false,
    "pycharm": {
     "name": "#%%\n"
    }
   }
  },
  {
   "cell_type": "code",
   "execution_count": null,
   "outputs": [],
   "source": [],
   "metadata": {
    "collapsed": false,
    "pycharm": {
     "name": "#%%\n"
    }
   }
  }
 ],
 "metadata": {
  "kernelspec": {
   "display_name": "Python 3",
   "language": "python",
   "name": "python3"
  },
  "language_info": {
   "codemirror_mode": {
    "name": "ipython",
    "version": 2
   },
   "file_extension": ".py",
   "mimetype": "text/x-python",
   "name": "python",
   "nbconvert_exporter": "python",
   "pygments_lexer": "ipython2",
   "version": "2.7.6"
  }
 },
 "nbformat": 4,
 "nbformat_minor": 0
}