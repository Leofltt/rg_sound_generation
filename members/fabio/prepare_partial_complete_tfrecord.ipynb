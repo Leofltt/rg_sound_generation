{
  "nbformat": 4,
  "nbformat_minor": 0,
  "metadata": {
    "accelerator": "GPU",
    "colab": {
      "name": "prepare_partial_complete_tfrecord.ipynb",
      "provenance": [],
      "collapsed_sections": [],
      "toc_visible": true
    },
    "kernelspec": {
      "display_name": "Python 3",
      "name": "python3"
    }
  },
  "cells": [
    {
      "cell_type": "markdown",
      "metadata": {
        "id": "PcAvS4amzDrZ"
      },
      "source": [
        "# Prepare Partial and Complete tfrecord"
      ]
    },
    {
      "cell_type": "markdown",
      "metadata": {
        "id": "w0fVn8yUJl_v"
      },
      "source": [
        "## Setup Google Drive"
      ]
    },
    {
      "cell_type": "code",
      "metadata": {
        "id": "m33xuTjEKazJ"
      },
      "source": [
        "from google.colab import drive\n",
        "drive.mount('/content/drive')"
      ],
      "execution_count": null,
      "outputs": []
    },
    {
      "cell_type": "markdown",
      "metadata": {
        "id": "Vn7CQ4GQizHy"
      },
      "source": [
        "## Install Dependencies\n",
        "\n",
        "First we install the required dependencies with `pip`."
      ]
    },
    {
      "cell_type": "code",
      "metadata": {
        "id": "jJzo4mdLYAXf"
      },
      "source": [
        "%tensorflow_version 2.x\r\n",
        "!pip install -qU ddsp[data_preparation]==1.0.1"
      ],
      "execution_count": null,
      "outputs": []
    },
    {
      "cell_type": "code",
      "metadata": {
        "id": "iIiPubo55cFQ"
      },
      "source": [
        "import os\r\n",
        "import warnings\r\n",
        "\r\n",
        "os.chdir(\"/content\")\r\n",
        "\r\n",
        "if not os.path.exists('rg_sound_generation'):\r\n",
        "  !git clone https://github.com/TheSoundOfAIOSR/rg_sound_generation\r\n",
        "\r\n",
        "os.chdir('rg_sound_generation/members/fabio')\r\n",
        "\r\n",
        "import data"
      ],
      "execution_count": 16,
      "outputs": []
    },
    {
      "cell_type": "markdown",
      "metadata": {
        "id": "6LVV4Dc61HHY"
      },
      "source": [
        "## Make directories to save model and data"
      ]
    },
    {
      "cell_type": "code",
      "metadata": {
        "id": "9XJcymGj1IwY"
      },
      "source": [
        "dataset_dir = os.path.normpath('/content/drive/My Drive/nsynth_guitar')\r\n",
        "\r\n",
        "assert os.path.exists(dataset_dir)\r\n",
        "print('Dataset Directory Exists:', dataset_dir)"
      ],
      "execution_count": null,
      "outputs": []
    },
    {
      "cell_type": "markdown",
      "metadata": {
        "id": "fb4YD8woYD1H"
      },
      "source": [
        "## Prepare Partial tfrecord"
      ]
    },
    {
      "cell_type": "code",
      "metadata": {
        "id": "MsnkAHyHVrCW"
      },
      "source": [
        "with warnings.catch_warnings():\n",
        "  warnings.simplefilter(\"ignore\")\n",
        "  data.prepare_partial_tfrecord(dataset_dir=dataset_dir,\n",
        "                              split='train',\n",
        "                              sample_rate=16000,\n",
        "                              frame_rate=250)"
      ],
      "execution_count": null,
      "outputs": []
    },
    {
      "cell_type": "markdown",
      "metadata": {
        "id": "9ShG2OJ7c-EW"
      },
      "source": [
        "## Prepare Complete tfrecord"
      ]
    },
    {
      "cell_type": "code",
      "metadata": {
        "id": "Um2WqBW2c9C-"
      },
      "source": [
        "with warnings.catch_warnings():\r\n",
        "  warnings.simplefilter(\"ignore\")\r\n",
        "  data.prepare_complete_tfrecord(dataset_dir=dataset_dir,\r\n",
        "                              split='train',\r\n",
        "                              sample_rate=16000,\r\n",
        "                              frame_rate=250)"
      ],
      "execution_count": null,
      "outputs": []
    }
  ]
}