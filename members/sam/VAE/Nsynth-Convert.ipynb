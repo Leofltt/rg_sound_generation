{
 "cells": [
  {
   "cell_type": "code",
   "execution_count": null,
   "metadata": {},
   "outputs": [],
   "source": [
    "import os\n",
    "import librosa\n",
    "import numpy as np\n",
    "import pandas as pd \n",
    "import json"
   ]
  },
  {
   "cell_type": "code",
   "execution_count": null,
   "metadata": {
    "scrolled": true
   },
   "outputs": [],
   "source": [
    "def save_mels(group): \n",
    "    # group in ['train','valid','test'] \n",
    "    directoryname = \"Downloads/nsynth-\" + group + \"/Audio\"\n",
    "    directory = os.fsencode(directoryname)\n",
    "    with open(\"Downloads/nsynth-\" + group + \"/examples.json\") as f:\n",
    "        metadata = json.load(f)\n",
    "\n",
    "    X = []\n",
    "    Names = []\n",
    "\n",
    "    for i, file in enumerate(os.listdir(directory)):\n",
    "        filename = os.fsdecode(file)\n",
    "        if filename.endswith(\".wav\"):\n",
    "            name = filename.split(\".\")[0]\n",
    "            if metadata[name]['instrument_family'] == 3:\n",
    "                audio_file = directoryname + \"/\" + filename\n",
    "                audio, sr = librosa.load(audio_file)\n",
    "                mel_spectrogram = librosa.feature.melspectrogram(audio, sr=sr, n_fft=2048, hop_length=512, n_mels=128)\n",
    "                log_mel_spectrogram = librosa.power_to_db(mel_spectrogram)\n",
    "                X.append(log_mel_spectrogram)\n",
    "                Names.append(name)\n",
    "    X_mel = np.array(X)\n",
    "    X_mel = X_mel.reshape((X_mel.shape[0],128*173))\n",
    "    X_names = np.array(Names)\n",
    "    pd.DataFrame(X_mel).to_csv(\"Downloads/guitar/nsynth-\" + group + \"/X_mel_128.csv\")\n",
    "    pd.DataFrame(X_names).to_csv(\"Downloads/guitar/nsynth-\" + group + \"/X_names.csv\")\n"
   ]
  },
  {
   "cell_type": "code",
   "execution_count": null,
   "metadata": {},
   "outputs": [],
   "source": [
    "for group in ['train','valid','test']:\n",
    "    save_mels(group)"
   ]
  }
 ],
 "metadata": {
  "kernelspec": {
   "display_name": "Python 3",
   "language": "python",
   "name": "python3"
  },
  "language_info": {
   "codemirror_mode": {
    "name": "ipython",
    "version": 3
   },
   "file_extension": ".py",
   "mimetype": "text/x-python",
   "name": "python",
   "nbconvert_exporter": "python",
   "pygments_lexer": "ipython3",
   "version": "3.6.12"
  }
 },
 "nbformat": 4,
 "nbformat_minor": 2
}
