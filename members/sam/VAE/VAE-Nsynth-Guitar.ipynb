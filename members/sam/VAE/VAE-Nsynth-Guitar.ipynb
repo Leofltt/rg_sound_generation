{
 "cells": [
  {
   "cell_type": "code",
   "execution_count": null,
   "metadata": {
    "scrolled": true
   },
   "outputs": [],
   "source": [
    "import numpy as np\n",
    "import pandas as pd\n",
    "import tensorflow as tf\n",
    "from tensorflow import keras\n",
    "from tensorflow.keras import layers\n",
    "import librosa\n",
    "import librosa.display\n",
    "import IPython.display as ipd\n",
    "import matplotlib.pyplot as plt\n",
    "import scipy.io.wavfile as wavf\n",
    "import math"
   ]
  },
  {
   "cell_type": "markdown",
   "metadata": {},
   "source": [
    "# Load and Normalize Data"
   ]
  },
  {
   "cell_type": "code",
   "execution_count": null,
   "metadata": {},
   "outputs": [],
   "source": [
    "def load_mel_and_names(group):\n",
    "    # group in ('train','test','valid')\n",
    "    X_mel = pd.read_csv(\"Downloads/guitar/nsynth-\" + group + \"/X_mel_128.csv\").drop(columns=['Unnamed: 0']).to_numpy()\n",
    "    X_names = pd.read_csv(\"Downloads/guitar/nsynth-\" + group + \"/X_names.csv\").drop(columns=['Unnamed: 0']).to_numpy()\n",
    "    \n",
    "    return X_mel, X_names\n",
    "\n",
    "def normalize_mel(X_mel, avg, std):\n",
    "    X_mel = (X_mel - avg) / std\n",
    "    X_mel = np.swapaxes(np.reshape(X_mel, (X_mel.shape[0], 128, 173, 1)), 1,2)\n",
    "    \n",
    "    return X_mel"
   ]
  },
  {
   "cell_type": "code",
   "execution_count": null,
   "metadata": {},
   "outputs": [],
   "source": [
    "X_mel, X_names = load_mel_and_names('train')\n",
    "X_mel_valid, X_names_valid = load_mel_and_names('valid')\n",
    "X_mel_test, X_names_test = load_mel_and_names('test')\n",
    "\n",
    "# Global Norm of Training Set\n",
    "avg = np.average(np.sum(X_mel,axis=0)/X_mel.shape[0])\n",
    "std = np.std(np.sum(X_mel,axis=0)/X_mel.shape[0])\n",
    "\n",
    "X_mel = normalize_mel(X_mel, avg, std)\n",
    "X_mel_valid = normalize_mel(X_mel_valid, avg, std)\n",
    "X_mel_test = normalize_mel(X_mel_valid, avg, std)\n",
    "\n",
    "print(X_mel.shape, X_mel_valid.shape, X_mel_test.shape)"
   ]
  },
  {
   "cell_type": "markdown",
   "metadata": {},
   "source": [
    "## Create Encoder/Decoder Architecture"
   ]
  },
  {
   "cell_type": "code",
   "execution_count": null,
   "metadata": {
    "scrolled": true
   },
   "outputs": [],
   "source": [
    "class Sampling(layers.Layer):\n",
    "    \"\"\"Uses (z_mean, z_log_var) to sample z, the vector encoding the input.\"\"\"\n",
    "\n",
    "    def call(self, inputs):\n",
    "        z_mean, z_log_var = inputs\n",
    "        batch = tf.shape(z_mean)[0]\n",
    "        dim = tf.shape(z_mean)[1]\n",
    "        epsilon = tf.keras.backend.random_normal(shape=(batch, dim))\n",
    "        return z_mean + tf.exp(0.5 * z_log_var) * epsilon"
   ]
  },
  {
   "cell_type": "code",
   "execution_count": null,
   "metadata": {},
   "outputs": [],
   "source": [
    "def build_encoder(latent_dim, lstm_dim, units=[32,32,64,64], kernel_sizes=[3,3,3,3], strides=[2,2,2,2]):\n",
    "    encoder_inputs = keras.Input(shape=(173, 128,1))\n",
    "    for i, (unit, kernel_size, stride) in enumerate(zip(units,kernel_sizes,strides)):\n",
    "        if i == 0:\n",
    "            x = layers.Conv2D(unit, (kernel_size), activation=\"relu\", strides=(stride), padding=\"same\")(encoder_inputs)\n",
    "        else:\n",
    "            x = layers.Conv2D(unit, (kernel_size), activation=\"relu\", strides=(stride), padding=\"same\")(x)\n",
    "    x = layers.TimeDistributed(layers.Flatten())(x)\n",
    "    x = layers.TimeDistributed(layers.Dense(lstm_dim, activation=\"relu\"))(x)\n",
    "    x = layers.LSTM(lstm_dim, activation=\"tanh\", return_sequences=False, dropout=0.1)(x)\n",
    "    z_mean = layers.Dense(latent_dim, name=\"z_mean\")(x)\n",
    "    z_log_var = layers.Dense(latent_dim, name=\"z_log_var\")(x)\n",
    "    z = Sampling()([z_mean, z_log_var])\n",
    "    encoder = keras.Model(encoder_inputs, [z_mean, z_log_var, z], name=\"encoder\")\n",
    "    encoder.summary()\n",
    "    \n",
    "    return encoder"
   ]
  },
  {
   "cell_type": "code",
   "execution_count": null,
   "metadata": {},
   "outputs": [],
   "source": [
    "def _conv_shape(strides, dim_size=[173,128]):\n",
    "    for i in strides:\n",
    "        dim_size = [math.ceil(x / i) for x in dim_size]\n",
    "    return dim_size"
   ]
  },
  {
   "cell_type": "code",
   "execution_count": null,
   "metadata": {},
   "outputs": [],
   "source": [
    "def build_decoder(latent_dim, lstm_dim, units=[32,32,64,64], kernel_sizes=[3,3,3,3], strides=[2,2,2,2]):\n",
    "    conv_shape = _conv_shape(strides)\n",
    "    units.reverse()\n",
    "    kernel_sizes.reverse()\n",
    "    strides.reverse()\n",
    "\n",
    "    latent_inputs = keras.Input(shape=(latent_dim,))\n",
    "    x = layers.RepeatVector(conv_shape[0])(latent_inputs)\n",
    "    if latent_dim != lstm_dim:\n",
    "        x = layers.TimeDistributed(layers.Dense(lstm_dim, activation=\"relu\"))(x)\n",
    "    x = layers.LSTM(lstm_dim, activation=\"tanh\", return_sequences=True, dropout=0.1)(x)\n",
    "    x = layers.TimeDistributed(layers.Dense(conv_shape[1] * units[0], activation=\"relu\"))(x)\n",
    "    x = layers.Reshape((conv_shape[0], conv_shape[1], units[0]))(x)\n",
    "    for i, (unit, kernel_size, stride) in enumerate(zip(units,kernel_sizes,strides)): \n",
    "        x = layers.Conv2DTranspose(unit, (kernel_size), activation=\"relu\", strides=(stride), padding=\"same\")(x)\n",
    "    x = layers.Cropping2D(cropping=((0, 3), (0, 0)))(x)\n",
    "    decoder_outputs = layers.Conv2DTranspose(1, 3, activation=\"linear\", padding=\"same\")(x)\n",
    "    decoder = keras.Model(latent_inputs, decoder_outputs, name=\"decoder\")\n",
    "    decoder.summary()\n",
    "    \n",
    "    return decoder"
   ]
  },
  {
   "cell_type": "markdown",
   "metadata": {},
   "source": [
    "## Create VAE Architecture"
   ]
  },
  {
   "cell_type": "code",
   "execution_count": null,
   "metadata": {
    "scrolled": true
   },
   "outputs": [],
   "source": [
    "class VAE(keras.Model):\n",
    "    def __init__(self, encoder, decoder, **kwargs):\n",
    "        super(VAE, self).__init__(**kwargs)\n",
    "        self.encoder = encoder\n",
    "        self.decoder = decoder\n",
    "        self.total_loss_tracker = keras.metrics.Mean(name=\"total_loss\")\n",
    "        self.reconstruction_loss_tracker = keras.metrics.Mean(\n",
    "            name=\"reconstruction_loss\"\n",
    "        )\n",
    "        self.kl_loss_tracker = keras.metrics.Mean(name=\"kl_loss\")\n",
    "\n",
    "    @property\n",
    "    def metrics(self):\n",
    "        return [\n",
    "            self.total_loss_tracker,\n",
    "            self.reconstruction_loss_tracker,\n",
    "            self.kl_loss_tracker,\n",
    "        ]\n",
    "\n",
    "    def train_step(self, data):\n",
    "        with tf.GradientTape() as tape:\n",
    "            z_mean, z_log_var, z = self.encoder(data)\n",
    "            reconstruction = self.decoder(z)\n",
    "            reconstruction_loss = tf.reduce_mean(\n",
    "                tf.reduce_sum(\n",
    "                    keras.losses.mean_squared_error(data, reconstruction), axis=(1,2)\n",
    "                )\n",
    "            )\n",
    "            kl_loss = -0.5 * (1 + z_log_var - tf.square(z_mean) - tf.exp(z_log_var))\n",
    "            kl_loss = tf.reduce_mean(tf.reduce_sum(kl_loss, axis=1))\n",
    "            total_loss = reconstruction_loss + kl_loss\n",
    "        grads = tape.gradient(total_loss, self.trainable_weights)\n",
    "        self.optimizer.apply_gradients(zip(grads, self.trainable_weights))\n",
    "        self.total_loss_tracker.update_state(total_loss)\n",
    "        self.reconstruction_loss_tracker.update_state(reconstruction_loss)\n",
    "        self.kl_loss_tracker.update_state(kl_loss)\n",
    "        return {\n",
    "            \"loss\": self.total_loss_tracker.result(),\n",
    "            \"reconstruction_loss\": self.reconstruction_loss_tracker.result(),\n",
    "            \"kl_loss\": self.kl_loss_tracker.result(),\n",
    "        }"
   ]
  },
  {
   "cell_type": "code",
   "execution_count": null,
   "metadata": {
    "scrolled": true
   },
   "outputs": [],
   "source": [
    "def build_vae(latent_dim, lstm_dim, units=[32,32,64,64], kernel_sizes=[3,3,3,3], strides=[2,2,2,2]):\n",
    "    encoder = build_encoder(latent_dim, lstm_dim, units, kernel_sizes, strides)\n",
    "    decoder = build_decoder(latent_dim, lstm_dim, units, kernel_sizes, strides)\n",
    "    vae = VAE(encoder, decoder)\n",
    "    vae.compile(optimizer=keras.optimizers.Adam())    \n",
    "    return vae"
   ]
  },
  {
   "cell_type": "markdown",
   "metadata": {},
   "source": [
    "## Create and train VAE"
   ]
  },
  {
   "cell_type": "code",
   "execution_count": null,
   "metadata": {
    "scrolled": true
   },
   "outputs": [],
   "source": [
    "vae = build_vae(latent_dim = 128, lstm_dim = 128)"
   ]
  },
  {
   "cell_type": "markdown",
   "metadata": {},
   "source": [
    "Load Weights (optional)"
   ]
  },
  {
   "cell_type": "code",
   "execution_count": null,
   "metadata": {},
   "outputs": [],
   "source": [
    "vae.load_weights('Downloads/vae-weights/vae37')"
   ]
  },
  {
   "cell_type": "code",
   "execution_count": null,
   "metadata": {
    "scrolled": true
   },
   "outputs": [],
   "source": [
    "vae.fit(X_mel, epochs=20, batch_size=128)"
   ]
  },
  {
   "cell_type": "markdown",
   "metadata": {},
   "source": [
    "## Compute Validation Loss"
   ]
  },
  {
   "cell_type": "code",
   "execution_count": null,
   "metadata": {
    "scrolled": true
   },
   "outputs": [],
   "source": [
    "def compute_val_loss(vae,X_mel_valid):\n",
    "    z_mean, z_log_var, z = vae.encoder.predict(X_mel_valid)\n",
    "    y = vae.decoder.predict(z)\n",
    "    loss = np.swapaxes(np.abs(y-X_mel_valid), 1,2)\n",
    "    loss_i = np.sum(loss, axis=(1,2))\n",
    "    print(np.average(loss_i), np.std(loss_i))\n",
    "    return y, loss"
   ]
  },
  {
   "cell_type": "code",
   "execution_count": null,
   "metadata": {},
   "outputs": [],
   "source": [
    "y, loss = compute_val_loss(vae,X_mel_valid)"
   ]
  },
  {
   "cell_type": "code",
   "execution_count": null,
   "metadata": {
    "scrolled": true
   },
   "outputs": [],
   "source": [
    "amax = np.sum(loss, axis=(1,2,3)).argsort()[-100:]\n",
    "amin = np.sum(loss, axis=(1,2,3)).argsort()[:100]\n",
    "X_names_valid_min = [X_names_valid[m][0] for m in amin]\n",
    "X_names_valid_max = [X_names_valid[m][0] for m in amax]\n",
    "loss_min = np.sum([loss[m] for m in amin], axis=(1,2,3))\n",
    "loss_max = np.sum([loss[m] for m in amax], axis=(1,2,3))\n",
    "loss_map = np.sum(loss, axis=0)/X_mel_valid.shape[0]\n",
    "loss_map_max = np.sum([loss[i] for i in amax],axis=0)/X_mel_valid.shape[0]\n",
    "loss_map_min = np.sum([loss[i] for i in amin],axis=0)/X_mel_valid.shape[0]"
   ]
  },
  {
   "cell_type": "markdown",
   "metadata": {},
   "source": [
    "## Plot Losses"
   ]
  },
  {
   "cell_type": "markdown",
   "metadata": {},
   "source": [
    "This helps show where we are losses are on the whole dataset, on the worst predictions, and the best predictions<br>\n",
    "<br>\n",
    "**loss_map** = average losses from every validation input<br>\n",
    "**loss_map_max** = average losses from the worst 100 validation losses<br>\n",
    "**loss_map_min** = average losses from the best 100 validation losses<br>"
   ]
  },
  {
   "cell_type": "code",
   "execution_count": null,
   "metadata": {},
   "outputs": [],
   "source": [
    "for i in [loss_map, loss_map_max, loss_map_min]:\n",
    "    plt.figure(figsize=(25, 10))\n",
    "    librosa.display.specshow(np.reshape(i, (128, 173)), \n",
    "                             x_axis=\"time\",\n",
    "                             y_axis=\"mel\", \n",
    "                             sr=22050)\n",
    "    plt.colorbar(format=\"%+2.f\")\n",
    "    plt.show()"
   ]
  },
  {
   "cell_type": "markdown",
   "metadata": {},
   "source": [
    "## Plot Spectograms"
   ]
  },
  {
   "cell_type": "code",
   "execution_count": null,
   "metadata": {
    "scrolled": false
   },
   "outputs": [],
   "source": [
    "def plot(ind, y, X_mel_valid):\n",
    "    print(\"Real\")\n",
    "    plt.figure(figsize=(25, 10))\n",
    "    librosa.display.specshow(np.swapaxes(np.reshape(X_mel_valid[ind], (173, 128)), 0,1), \n",
    "                             x_axis=\"time\",\n",
    "                             y_axis=\"mel\", \n",
    "                             sr=22050)\n",
    "    plt.colorbar(format=\"%+2.f\")\n",
    "    plt.show()\n",
    "    print(\"Generated\")\n",
    "    plt.figure(figsize=(25, 10))\n",
    "    librosa.display.specshow(np.swapaxes(np.reshape(y[ind], (173, 128)), 0,1), \n",
    "                             x_axis=\"time\",\n",
    "                             y_axis=\"mel\", \n",
    "                             sr=22050)\n",
    "    plt.colorbar(format=\"%+2.f\")\n",
    "    plt.show()"
   ]
  },
  {
   "cell_type": "markdown",
   "metadata": {},
   "source": [
    "Plots for the worst 20 predictions"
   ]
  },
  {
   "cell_type": "code",
   "execution_count": null,
   "metadata": {
    "scrolled": true
   },
   "outputs": [],
   "source": [
    "for m in amax[-20:]:\n",
    "    plot(m, y, X_mel_valid)"
   ]
  },
  {
   "cell_type": "markdown",
   "metadata": {},
   "source": [
    "Plots for the best 20 predictions"
   ]
  },
  {
   "cell_type": "code",
   "execution_count": null,
   "metadata": {},
   "outputs": [],
   "source": [
    "for m in amin[-20:]:\n",
    "    plot(m, y, X_mel_valid)"
   ]
  },
  {
   "cell_type": "markdown",
   "metadata": {},
   "source": [
    "## Create wav file from predictions"
   ]
  },
  {
   "cell_type": "code",
   "execution_count": null,
   "metadata": {},
   "outputs": [],
   "source": [
    "def mel_to_audio(y, valid, index):\n",
    "    pred =  np.swapaxes(y[index].reshape(173,128), 0,1)*std + avg\n",
    "    valid =  np.swapaxes(X_mel_valid[index].reshape(173,128), 0,1)*std + avg\n",
    "    \n",
    "    pred_mel = librosa.db_to_power(pred)\n",
    "    valid_mel = librosa.db_to_power(valid)\n",
    "    \n",
    "    pred_audio = librosa.feature.inverse.mel_to_audio(pred_mel, sr=22050, n_fft=2048, hop_length=512, win_length=None, \n",
    "                                                    window='hann', center=True, pad_mode='reflect', power=2.0, n_iter=32)\n",
    "    valid_audio = librosa.feature.inverse.mel_to_audio(valid_mel, sr=22050, n_fft=2048, hop_length=512, win_length=None, \n",
    "                                                    window='hann', center=True, pad_mode='reflect', power=2.0, n_iter=32)\n",
    "    \n",
    "    wavf.write('pred.wav', 22050, pred_audio)\n",
    "    wavf.write('valid.wav', 22050, valid_audio)"
   ]
  },
  {
   "cell_type": "code",
   "execution_count": null,
   "metadata": {},
   "outputs": [],
   "source": [
    "# Change index for specific sample in X_mel_valid\n",
    "mel_to_audio(y, X_mel_valid, index=1) "
   ]
  },
  {
   "cell_type": "code",
   "execution_count": null,
   "metadata": {},
   "outputs": [],
   "source": [
    "ipd.Audio('valid.wav')"
   ]
  },
  {
   "cell_type": "code",
   "execution_count": null,
   "metadata": {},
   "outputs": [],
   "source": [
    "ipd.Audio('pred.wav')"
   ]
  }
 ],
 "metadata": {
  "kernelspec": {
   "display_name": "Python 3",
   "language": "python",
   "name": "python3"
  },
  "language_info": {
   "codemirror_mode": {
    "name": "ipython",
    "version": 3
   },
   "file_extension": ".py",
   "mimetype": "text/x-python",
   "name": "python",
   "nbconvert_exporter": "python",
   "pygments_lexer": "ipython3",
   "version": "3.6.12"
  }
 },
 "nbformat": 4,
 "nbformat_minor": 2
}
