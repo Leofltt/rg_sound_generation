{
 "cells": [
  {
   "cell_type": "markdown",
   "id": "5o1qdVNx6CS_",
   "metadata": {
    "id": "5o1qdVNx6CS_"
   },
   "source": [
    "# Mapping Model Inference"
   ]
  },
  {
   "cell_type": "markdown",
   "id": "YoanFDND6MX8",
   "metadata": {
    "id": "YoanFDND6MX8"
   },
   "source": [
    "## Install Dependencies"
   ]
  },
  {
   "cell_type": "code",
   "execution_count": null,
   "id": "3sz8QHO_6P6Y",
   "metadata": {
    "id": "3sz8QHO_6P6Y"
   },
   "outputs": [],
   "source": [
    "import os\n",
    "\n",
    "os.chdir(\"/content\")\n",
    "\n",
    "repo_dir = \"rg_sound_generation\"\n",
    "if not os.path.exists(repo_dir):\n",
    "  !git clone https://github.com/TheSoundOfAIOSR/$repo_dir\n",
    "\n",
    "os.chdir(repo_dir)\n",
    "os.chdir('mapping_models')\n",
    "!python -m pip -q install -e .\n",
    "os.chdir('examples')"
   ]
  },
  {
   "cell_type": "markdown",
   "id": "OZEG8Ok6AuEk",
   "metadata": {
    "id": "OZEG8Ok6AuEk"
   },
   "source": [
    "## Imports\n",
    "\n",
    "Restart kernel after installing `mapping_models` above"
   ]
  },
  {
   "cell_type": "code",
   "execution_count": null,
   "id": "removable-gazette",
   "metadata": {
    "id": "removable-gazette"
   },
   "outputs": [],
   "source": [
    "%matplotlib inline\n",
    "\n",
    "import os\n",
    "import tensorflow as tf\n",
    "import numpy as np\n",
    "import matplotlib.pyplot as plt\n",
    "import ddsp.training\n",
    "import gin\n",
    "\n",
    "from ddsp.training.preprocessing import F0LoudnessPreprocessor\n",
    "from mapping_models.trainer import create_dataset\n",
    "from IPython.display import Audio\n",
    "\n",
    "os.chdir(\"/content/rg_sound_generation/mapping_models/examples\")\n",
    "\n",
    "from causal_conv_test import features_map, create_model"
   ]
  },
  {
   "cell_type": "markdown",
   "id": "8iCPCwS1A9J2",
   "metadata": {
    "id": "8iCPCwS1A9J2"
   },
   "source": [
    "## Mount Google Drive"
   ]
  },
  {
   "cell_type": "code",
   "execution_count": null,
   "id": "TABZhOes6KVm",
   "metadata": {
    "colab": {
     "base_uri": "https://localhost:8080/"
    },
    "id": "TABZhOes6KVm",
    "outputId": "eeb0fe81-aba3-4f49-edd5-5e37a5392709"
   },
   "outputs": [],
   "source": [
    "from google.colab import drive\n",
    "drive.mount('/content/drive')"
   ]
  },
  {
   "cell_type": "markdown",
   "id": "Bf1fzEtJ76wN",
   "metadata": {
    "id": "Bf1fzEtJ76wN"
   },
   "source": [
    "## Load Data and Model Checkpoints\n",
    "\n",
    "If you don't have the checkpoints, please take a look at the following:\n",
    "\n",
    "Training a mapping model: [Notebook](https://github.com/TheSoundOfAIOSR/rg_sound_generation/blob/main/mapping_models/examples/run_training.ipynb)\n",
    "\n",
    "Training DDSP on Nsynth Guitar Subset: [Notebook](https://github.com/TheSoundOfAIOSR/rg_sound_generation/blob/main/members/fabio/train_ddsp_nsynth_guitar.ipynb)"
   ]
  },
  {
   "cell_type": "code",
   "execution_count": null,
   "id": "european-italy",
   "metadata": {
    "id": "european-italy"
   },
   "outputs": [],
   "source": [
    "dataset_dir = '/content/drive/MyDrive/complete_dataset'\n",
    "set_name = 'test'\n",
    "batch_size = 1\n",
    "mapping_model_checkpoint_path = '/content/drive/MyDrive/causal_single_stage/cp.ckpt'\n",
    "gin_file_path = '/content/drive/MyDrive/ddsp_trained_30k/operative_config-30000.gin'\n",
    "ddsp_model_path = '/content/drive/MyDrive/ddsp_trained_30k'\n",
    "sr = 16000"
   ]
  },
  {
   "cell_type": "code",
   "execution_count": null,
   "id": "classical-clothing",
   "metadata": {
    "id": "classical-clothing"
   },
   "outputs": [],
   "source": [
    "def map_func(features):\n",
    "    inputs, outputs = features_map(features)\n",
    "    return inputs, outputs, features\n",
    "\n",
    "\n",
    "dataset = create_dataset(\n",
    "    dataset_dir=dataset_dir,\n",
    "    split=set_name,\n",
    "    batch_size=batch_size,\n",
    "    map_func=map_func\n",
    ")\n",
    "\n",
    "datagen = iter(dataset)"
   ]
  },
  {
   "cell_type": "code",
   "execution_count": null,
   "id": "applicable-compensation",
   "metadata": {
    "id": "applicable-compensation"
   },
   "outputs": [],
   "source": [
    "mapping_model = create_model(model_type='single_stage')\n",
    "_ = mapping_model.load_weights(mapping_model_checkpoint_path)\n",
    "gin.parse_config_file(gin_file_path)\n",
    "ddsp_model = ddsp.training.models.Autoencoder()\n",
    "ddsp_model.restore(ddsp_model_path)"
   ]
  },
  {
   "cell_type": "markdown",
   "id": "IhS_FnIg8Ga_",
   "metadata": {
    "id": "IhS_FnIg8Ga_"
   },
   "source": [
    "## Get Predictions"
   ]
  },
  {
   "cell_type": "code",
   "execution_count": null,
   "id": "legendary-publisher",
   "metadata": {
    "id": "legendary-publisher"
   },
   "outputs": [],
   "source": [
    "def get_preds():\n",
    "    inputs, outputs, features = next(datagen)\n",
    "\n",
    "    f0_scaled = np.squeeze(outputs.get('f0_scaled').numpy())\n",
    "    ld_scaled = np.squeeze(outputs.get('ld_scaled').numpy())\n",
    "\n",
    "    f0_pred, ld_pred = mapping_model.predict(inputs)\n",
    "\n",
    "    features['f0_scaled'] = tf.convert_to_tensor(f0_pred)\n",
    "    features['ld_scaled'] = tf.convert_to_tensor(ld_pred)\n",
    "\n",
    "    f0_pred = np.squeeze(f0_pred)\n",
    "    ld_pred = np.squeeze(ld_pred)\n",
    "    \n",
    "    f0_hz, loudness_db = F0LoudnessPreprocessor.invert_scaling(f0_pred, ld_pred)\n",
    "    \n",
    "    features['f0_hz'] = f0_hz\n",
    "    features['loudness_db'] = loudness_db\n",
    "\n",
    "    plt.figure(figsize=(12, 6))\n",
    "\n",
    "    plt.subplot(1, 2, 1)\n",
    "    plt.plot(f0_scaled, label='f0_gt')\n",
    "    plt.plot(f0_pred, label='f0_pred')\n",
    "    plt.xlabel('time')\n",
    "    plt.ylabel('f0_scaled')\n",
    "    plt.legend()\n",
    "\n",
    "    plt.subplot(1, 2, 2)\n",
    "    plt.plot(ld_scaled, label='ld_gt')\n",
    "    plt.plot(ld_pred, label='ld_pred')\n",
    "    plt.xlabel('time')\n",
    "    plt.ylabel('ld_scaled')\n",
    "    plt.legend()\n",
    "\n",
    "    plt.show()\n",
    "\n",
    "    ddsp_outputs = ddsp_model(features, training=False)\n",
    "    audio_pred = ddsp_model.get_audio_from_outputs(ddsp_outputs)\n",
    "    \n",
    "    return features['audio'], audio_pred"
   ]
  },
  {
   "cell_type": "code",
   "execution_count": null,
   "id": "charged-square",
   "metadata": {
    "colab": {
     "base_uri": "https://localhost:8080/",
     "height": 388
    },
    "id": "charged-square",
    "outputId": "f3363f95-97b5-48ee-9441-c2e37c6dfb21"
   },
   "outputs": [],
   "source": [
    "audio, audio_pred = get_preds()"
   ]
  },
  {
   "cell_type": "code",
   "execution_count": null,
   "id": "infrared-receiver",
   "metadata": {
    "colab": {
     "base_uri": "https://localhost:8080/",
     "height": 79
    },
    "id": "infrared-receiver",
    "outputId": "9193b0ce-6dc9-42c6-c018-6c32a783d997"
   },
   "outputs": [],
   "source": [
    "print('Original Audio')\n",
    "Audio(audio, rate=sr)"
   ]
  },
  {
   "cell_type": "code",
   "execution_count": null,
   "id": "classified-statement",
   "metadata": {
    "colab": {
     "base_uri": "https://localhost:8080/",
     "height": 79
    },
    "id": "classified-statement",
    "outputId": "9af74176-ae41-4663-91d8-7b39a9495647"
   },
   "outputs": [],
   "source": [
    "print('Predicted Audio')\n",
    "Audio(audio_pred, rate=sr)"
   ]
  },
  {
   "cell_type": "code",
   "execution_count": null,
   "id": "posted-forwarding",
   "metadata": {
    "id": "posted-forwarding"
   },
   "outputs": [],
   "source": []
  }
 ],
 "metadata": {
  "colab": {
   "collapsed_sections": [],
   "name": "run_inference.ipynb",
   "provenance": [],
   "toc_visible": true
  },
  "kernelspec": {
   "display_name": "Python 3",
   "language": "python",
   "name": "python3"
  },
  "language_info": {
   "codemirror_mode": {
    "name": "ipython",
    "version": 3
   },
   "file_extension": ".py",
   "mimetype": "text/x-python",
   "name": "python",
   "nbconvert_exporter": "python",
   "pygments_lexer": "ipython3",
   "version": "3.8.5"
  }
 },
 "nbformat": 4,
 "nbformat_minor": 5
}
