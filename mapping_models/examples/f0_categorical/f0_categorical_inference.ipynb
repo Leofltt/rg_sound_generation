{
 "cells": [
  {
   "cell_type": "code",
   "execution_count": null,
   "metadata": {
    "pycharm": {
     "name": "#%%\n"
    }
   },
   "outputs": [],
   "source": [
    "%matplotlib inline\n",
    "\n",
    "import numpy as np\n",
    "import matplotlib.pyplot as plt\n",
    "\n",
    "from model import create_model\n",
    "from data import data_generator, complete_record_generator"
   ]
  },
  {
   "cell_type": "code",
   "execution_count": null,
   "metadata": {
    "pycharm": {
     "name": "#%%\n"
    }
   },
   "outputs": [],
   "source": [
    "dataset_dir = ''\n",
    "\n",
    "valid_generator = data_generator(complete_record_generator(\n",
    "    dataset_dir=dataset_dir,\n",
    "    set_name='valid',\n",
    "    batch_size=1\n",
    "))"
   ]
  },
  {
   "cell_type": "code",
   "execution_count": null,
   "metadata": {},
   "outputs": [],
   "source": [
    "model = create_model()\n",
    "model.load_weights('')"
   ]
  },
  {
   "cell_type": "code",
   "execution_count": null,
   "metadata": {
    "pycharm": {
     "name": "#%%\n"
    }
   },
   "outputs": [],
   "source": [
    "plt.figure(figsize=(16, 12))\n",
    "\n",
    "for i in range(0, 9):\n",
    "    inputs, outputs = next(valid_generator)\n",
    "    preds = model.predict(inputs)\n",
    "\n",
    "    f0_pred = np.argmax(preds[0], axis=-1)\n",
    "    f0_gt = np.argmax(outputs['f0_categorical'][0], axis=-1)\n",
    "\n",
    "    plt.subplot(3, 3, i + 1)\n",
    "    plt.plot(range(1000), f0_pred, label='Pred')\n",
    "    plt.plot(range(1000), f0_gt, label='GT')\n",
    "    plt.legend()\n",
    "plt.show()"
   ]
  },
  {
   "cell_type": "code",
   "execution_count": null,
   "metadata": {
    "pycharm": {
     "name": "#%%\n"
    }
   },
   "outputs": [],
   "source": []
  }
 ],
 "metadata": {
  "kernelspec": {
   "display_name": "Python 3",
   "language": "python",
   "name": "python3"
  },
  "language_info": {
   "codemirror_mode": {
    "name": "ipython",
    "version": 3
   },
   "file_extension": ".py",
   "mimetype": "text/x-python",
   "name": "python",
   "nbconvert_exporter": "python",
   "pygments_lexer": "ipython3",
   "version": "3.8.5"
  }
 },
 "nbformat": 4,
 "nbformat_minor": 1
}
