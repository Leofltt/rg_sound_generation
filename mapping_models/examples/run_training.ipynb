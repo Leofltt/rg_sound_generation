{
 "cells": [
  {
   "cell_type": "markdown",
   "metadata": {
    "id": "ze2YewcBix9I"
   },
   "source": [
    "# Mapping model training"
   ]
  },
  {
   "cell_type": "markdown",
   "metadata": {},
   "source": [
    "## Mound Google Drive"
   ]
  },
  {
   "cell_type": "code",
   "execution_count": null,
   "metadata": {},
   "outputs": [],
   "source": [
    "from google.colab import drive\n",
    "drive.mount('/content/drive')"
   ]
  },
  {
   "cell_type": "markdown",
   "metadata": {
    "id": "rPfraO3MjMXF"
   },
   "source": [
    "### Install Dependencies\n",
    "\n",
    "First we install the required dependencies with `pip`."
   ]
  },
  {
   "cell_type": "code",
   "execution_count": null,
   "metadata": {
    "id": "ECuz-i5BjRGF"
   },
   "outputs": [],
   "source": [
    "import os\n",
    "\n",
    "os.chdir(\"/content\")\n",
    "\n",
    "repo_dir = \"rg_sound_generation\"\n",
    "if not os.path.exists(repo_dir):\n",
    "  !git clone https://github.com/TheSoundOfAIOSR/$repo_dir\n",
    "\n",
    "os.chdir(repo_dir)\n",
    "os.chdir('mapping_models')\n",
    "!python -m pip install -e .\n",
    "os.chdir('examples')"
   ]
  },
  {
   "cell_type": "markdown",
   "metadata": {
    "id": "YwLVBqXJx43y"
   },
   "source": [
    "### Download Complete NSynth Guitar Subset\n",
    "\n",
    "Please try to download the complete dataset only once and save it on your mounted google drive for later use. There is no need to download it from S3 every time."
   ]
  },
  {
   "cell_type": "code",
   "execution_count": null,
   "metadata": {
    "id": "NFFPkXa2t_f7"
   },
   "outputs": [],
   "source": [
    "dataset_dir = '/content/complete'\n",
    "train_dataset_dir = os.path.join(dataset_dir, 'train')\n",
    "valid_dataset_dir = os.path.join(dataset_dir, 'valid')\n",
    "test_dataset_dir = os.path.join(dataset_dir, 'test')\n",
    "\n",
    "train_tfrecord_file = os.path.join(train_dataset_dir, 'complete.tfrecord')\n",
    "valid_tfrecord_file = os.path.join(valid_dataset_dir, 'complete.tfrecord')\n",
    "test_tfrecord_file = os.path.join(test_dataset_dir, 'complete.tfrecord')\n",
    "\n",
    "if not os.path.exists(dataset_dir):\n",
    "  train = 'https://osr-tsoai.s3.amazonaws.com/complete/train/complete.tfrecord'\n",
    "  valid = 'https://osr-tsoai.s3.amazonaws.com/complete/valid/complete.tfrecord'\n",
    "  test = 'https://osr-tsoai.s3.amazonaws.com/complete/test/complete.tfrecord'\n",
    "\n",
    "  print(\"Downloading train dataset to {}\\n\".format(train_dataset_dir))\n",
    "  !mkdir -p \"$train_dataset_dir\"\n",
    "  !curl $train --output $train_tfrecord_file\n",
    "\n",
    "  print(\"\\nDownloading valid dataset to {}\\n\".format(valid_dataset_dir))\n",
    "  !mkdir -p \"$valid_dataset_dir\"\n",
    "  !curl $valid --output $valid_tfrecord_file\n",
    "\n",
    "  print(\"\\nDownloading test dataset to {}\\n\".format(test_dataset_dir))\n",
    "  !mkdir -p \"$test_dataset_dir\"\n",
    "  !curl $test --output $test_tfrecord_file"
   ]
  },
  {
   "cell_type": "markdown",
   "metadata": {
    "id": "F_3QYOGzyQ_6"
   },
   "source": [
    "### Train Model"
   ]
  },
  {
   "cell_type": "code",
   "execution_count": null,
   "metadata": {
    "id": "pIxfGG54oXXE"
   },
   "outputs": [],
   "source": [
    "#@title Model selection\n",
    "\n",
    "model_name = \"gru_test\" #@param [\"gru_test\", \"causal_conv_test\"]\n",
    "\n",
    "if model_name == \"gru_test\":\n",
    "  model_file = 'gru_test_model.py'\n",
    "elif model_name == \"causal_conv_test\":\n",
    "  model_file = 'causal_conv_test.py'"
   ]
  },
  {
   "cell_type": "code",
   "execution_count": null,
   "metadata": {
    "id": "8MakjRfwyYlH"
   },
   "outputs": [],
   "source": [
    "epochs = 100\n",
    "\n",
    "!python $model_file \\\n",
    "  --dataset_dir $dataset_dir \\\n",
    "  --model_dir_name $model_name \\\n",
    "  --epochs $epochs"
   ]
  }
 ],
 "metadata": {
  "colab": {
   "name": "run_training.ipynb",
   "provenance": [],
   "toc_visible": true
  },
  "kernelspec": {
   "display_name": "Python 3",
   "language": "python",
   "name": "python3"
  },
  "language_info": {
   "codemirror_mode": {
    "name": "ipython",
    "version": 3
   },
   "file_extension": ".py",
   "mimetype": "text/x-python",
   "name": "python",
   "nbconvert_exporter": "python",
   "pygments_lexer": "ipython3",
   "version": "3.8.5"
  }
 },
 "nbformat": 4,
 "nbformat_minor": 1
}
