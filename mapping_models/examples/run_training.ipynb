{
  "nbformat": 4,
  "nbformat_minor": 0,
  "metadata": {
    "colab": {
      "name": "run_training.ipynb",
      "provenance": []
    },
    "kernelspec": {
      "name": "python3",
      "display_name": "Python 3"
    }
  },
  "cells": [
    {
      "cell_type": "markdown",
      "metadata": {
        "id": "ze2YewcBix9I"
      },
      "source": [
        "# Mapping model training"
      ]
    },
    {
      "cell_type": "markdown",
      "metadata": {
        "id": "rTBXsuDYi9wt"
      },
      "source": [
        "### Setup Google Drive"
      ]
    },
    {
      "cell_type": "code",
      "metadata": {
        "id": "O8eq2Ypli7sj"
      },
      "source": [
        "# from google.colab import drive\r\n",
        "# drive.mount('/content/drive')"
      ],
      "execution_count": null,
      "outputs": []
    },
    {
      "cell_type": "markdown",
      "metadata": {
        "id": "rPfraO3MjMXF"
      },
      "source": [
        "### Install Dependencies\r\n",
        "\r\n",
        "First we install the required dependencies with `pip`."
      ]
    },
    {
      "cell_type": "code",
      "metadata": {
        "id": "IsNeoeyah95q"
      },
      "source": [
        "%tensorflow_version 2.x\r\n",
        "!pip install -qU ddsp[data_preparation]==1.0.1"
      ],
      "execution_count": null,
      "outputs": []
    },
    {
      "cell_type": "code",
      "metadata": {
        "id": "ECuz-i5BjRGF"
      },
      "source": [
        "import os\r\n",
        "\r\n",
        "os.chdir(\"/content\")\r\n",
        "\r\n",
        "repo_dir = \"rg_sound_generation\"\r\n",
        "if not os.path.exists(repo_dir):\r\n",
        "  !git clone https://github.com/TheSoundOfAIOSR/$repo_dir\r\n",
        "\r\n",
        "os.chdir(repo_dir)\r\n",
        "os.chdir('mapping_models/examples')"
      ],
      "execution_count": null,
      "outputs": []
    },
    {
      "cell_type": "markdown",
      "metadata": {
        "id": "YwLVBqXJx43y"
      },
      "source": [
        "### Download Complete NSynth Guitar Subset"
      ]
    },
    {
      "cell_type": "code",
      "metadata": {
        "id": "NFFPkXa2t_f7"
      },
      "source": [
        "dataset_dir = '/content/complete'\r\n",
        "train_dataset_dir = os.path.join(dataset_dir, 'train')\r\n",
        "valid_dataset_dir = os.path.join(dataset_dir, 'valid')\r\n",
        "test_dataset_dir = os.path.join(dataset_dir, 'test')\r\n",
        "\r\n",
        "train_tfrecord_file = os.path.join(train_dataset_dir, 'complete.tfrecord')\r\n",
        "valid_tfrecord_file = os.path.join(valid_dataset_dir, 'complete.tfrecord')\r\n",
        "test_tfrecord_file = os.path.join(test_dataset_dir, 'complete.tfrecord')\r\n",
        "\r\n",
        "if not os.path.exists(dataset_dir):\r\n",
        "  train = 'https://osr-tsoai.s3.amazonaws.com/complete/train/complete.tfrecord'\r\n",
        "  valid = 'https://osr-tsoai.s3.amazonaws.com/complete/valid/complete.tfrecord'\r\n",
        "  test = 'https://osr-tsoai.s3.amazonaws.com/complete/test/complete.tfrecord'\r\n",
        "\r\n",
        "  print(\"Downloading train dataset to {}\\n\".format(train_dataset_dir))\r\n",
        "  !mkdir -p \"$train_dataset_dir\"\r\n",
        "  !curl $train --output $train_tfrecord_file\r\n",
        "\r\n",
        "  print(\"\\nDownloading valid dataset to {}\\n\".format(valid_dataset_dir))\r\n",
        "  !mkdir -p \"$valid_dataset_dir\"\r\n",
        "  !curl $valid --output $valid_tfrecord_file\r\n",
        "\r\n",
        "  print(\"\\nDownloading test dataset to {}\\n\".format(test_dataset_dir))\r\n",
        "  !mkdir -p \"$test_dataset_dir\"\r\n",
        "  !curl $test --output $test_tfrecord_file"
      ],
      "execution_count": null,
      "outputs": []
    },
    {
      "cell_type": "markdown",
      "metadata": {
        "id": "F_3QYOGzyQ_6"
      },
      "source": [
        "### Train Model"
      ]
    },
    {
      "cell_type": "code",
      "metadata": {
        "id": "pIxfGG54oXXE"
      },
      "source": [
        "#@title Model selection\r\n",
        "\r\n",
        "model_name = \"causal_conv_test\" #@param [\"gru_test\", \"causal_conv_test\"]\r\n",
        "\r\n",
        "if model_name == \"gru_test\":\r\n",
        "  model_file = 'gru_test_model.py'\r\n",
        "elif model_name == \"causal_conv_test\":\r\n",
        "  model_file = 'causal_conv_test.py'"
      ],
      "execution_count": 14,
      "outputs": []
    },
    {
      "cell_type": "code",
      "metadata": {
        "id": "8MakjRfwyYlH"
      },
      "source": [
        "epochs = 100\r\n",
        "\r\n",
        "!python $model_file \\\r\n",
        "  --dataset_dir $dataset_dir \\\r\n",
        "  --model_dir_name $model_name \\\r\n",
        "  --epochs $epochs"
      ],
      "execution_count": null,
      "outputs": []
    }
  ]
}