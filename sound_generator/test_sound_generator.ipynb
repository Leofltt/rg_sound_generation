{
 "cells": [
  {
   "cell_type": "markdown",
   "source": [
    "## Using Sound Generator Module"
   ],
   "metadata": {
    "collapsed": false,
    "pycharm": {
     "name": "#%% md\n"
    }
   }
  },
  {
   "cell_type": "code",
   "execution_count": null,
   "metadata": {},
   "outputs": [],
   "source": [
    "from sound_generator import get_prediction\n",
    "from IPython.display import Audio"
   ]
  },
  {
   "cell_type": "code",
   "execution_count": null,
   "metadata": {
    "pycharm": {
     "name": "#%%\n"
    }
   },
   "outputs": [],
   "source": [
    "inputs = {\n",
    "    'velocity': 50,\n",
    "    'pitch': 60,\n",
    "    'source': 'acoustic',\n",
    "    'qualities': ['dark'],\n",
    "    'latent_sample': [0.] * 16\n",
    "}\n",
    "\n",
    "audio = get_prediction(inputs)\n",
    "\n",
    "Audio(audio[0, :], rate=16000)\n"
   ]
  },
  {
   "cell_type": "markdown",
   "source": [
    "## Using Deployed Service"
   ],
   "metadata": {
    "collapsed": false
   }
  },
  {
   "cell_type": "code",
   "execution_count": null,
   "outputs": [],
   "source": [
    "import requests\n",
    "import json\n",
    "import numpy as np\n",
    "\n",
    "from IPython.display import Audio"
   ],
   "metadata": {
    "collapsed": false,
    "pycharm": {
     "name": "#%%\n"
    }
   }
  },
  {
   "cell_type": "code",
   "execution_count": null,
   "outputs": [],
   "source": [
    "URL = 'http://127.0.0.1/api'\n",
    "\n",
    "res = requests.post(URL, json={\n",
    "    'velocity': 75,\n",
    "    'pitch': 60,\n",
    "    'source': 'acoustic',\n",
    "    'qualities': ['dark', 'percussive'],\n",
    "    'latent_sample': [0.] * 16\n",
    "})\n",
    "\n",
    "audio = json.loads(res.text)['audio']\n",
    "audio = np.squeeze(audio)\n",
    "\n",
    "Audio(audio, rate=16000)"
   ],
   "metadata": {
    "collapsed": false,
    "pycharm": {
     "name": "#%%\n"
    }
   }
  },
  {
   "cell_type": "code",
   "execution_count": null,
   "outputs": [],
   "source": [],
   "metadata": {
    "collapsed": false,
    "pycharm": {
     "name": "#%%\n"
    }
   }
  }
 ],
 "metadata": {
  "kernelspec": {
   "display_name": "Python 3",
   "language": "python",
   "name": "python3"
  },
  "language_info": {
   "codemirror_mode": {
    "name": "ipython",
    "version": 3
   },
   "file_extension": ".py",
   "mimetype": "text/x-python",
   "name": "python",
   "nbconvert_exporter": "python",
   "pygments_lexer": "ipython3",
   "version": "3.8.5"
  }
 },
 "nbformat": 4,
 "nbformat_minor": 1
}