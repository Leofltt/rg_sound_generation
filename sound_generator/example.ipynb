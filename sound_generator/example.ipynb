{
 "cells": [
  {
   "cell_type": "markdown",
   "metadata": {
    "pycharm": {
     "name": "#%% md\n"
    }
   },
   "source": [
    "## Using Sound Generator Module"
   ]
  },
  {
   "cell_type": "code",
   "execution_count": null,
   "metadata": {},
   "outputs": [],
   "source": [
    "from sound_generator import get_prediction\n",
    "from IPython.display import Audio"
   ]
  },
  {
   "cell_type": "code",
   "execution_count": null,
   "metadata": {
    "pycharm": {
     "name": "#%%\n"
    }
   },
   "outputs": [],
   "source": [
    "inputs = {\n",
    "    'velocity': 50,\n",
    "    'pitch': 60,\n",
    "    'source': 'acoustic',\n",
    "    'qualities': ['dark'],\n",
    "    'latent_sample': [0.] * 16\n",
    "}\n",
    "\n",
    "audio = get_prediction(inputs)\n",
    "\n",
    "Audio(audio[0, :], rate=16000)"
   ]
  },
  {
   "cell_type": "markdown",
   "metadata": {},
   "source": [
    "## Using Deployed Service"
   ]
  },
  {
   "cell_type": "code",
   "execution_count": null,
   "metadata": {
    "pycharm": {
     "name": "#%%\n"
    }
   },
   "outputs": [],
   "source": [
    "import requests\n",
    "import json\n",
    "import numpy as np\n",
    "\n",
    "from IPython.display import Audio"
   ]
  },
  {
   "cell_type": "code",
   "execution_count": null,
   "metadata": {
    "pycharm": {
     "name": "#%%\n"
    }
   },
   "outputs": [],
   "source": [
    "URL = 'http://127.0.0.1/sound'\n",
    "\n",
    "res = requests.post(URL, json={\n",
    "    'velocity': 50,\n",
    "    'pitch': 60,\n",
    "    'source': 'acoustic',\n",
    "    'qualities': ['bright', 'percussive'],\n",
    "    'latent_sample': [0.] * 16\n",
    "})\n",
    "\n",
    "audio = json.loads(res.text)['audio']\n",
    "audio = np.squeeze(audio)\n",
    "\n",
    "Audio(audio, rate=16000)"
   ]
  },
  {
   "cell_type": "code",
   "execution_count": null,
   "metadata": {
    "pycharm": {
     "name": "#%%\n"
    }
   },
   "outputs": [],
   "source": []
  }
 ],
 "metadata": {
  "kernelspec": {
   "display_name": "Python 3",
   "language": "python",
   "name": "python3"
  },
  "language_info": {
   "codemirror_mode": {
    "name": "ipython",
    "version": 3
   },
   "file_extension": ".py",
   "mimetype": "text/x-python",
   "name": "python",
   "nbconvert_exporter": "python",
   "pygments_lexer": "ipython3",
   "version": "3.8.5"
  }
 },
 "nbformat": 4,
 "nbformat_minor": 1
}
